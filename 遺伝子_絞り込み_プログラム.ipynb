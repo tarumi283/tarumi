{
  "nbformat": 4,
  "nbformat_minor": 0,
  "metadata": {
    "colab": {
      "name": "Between_subject 2W ANOVA.ipynb",
      "provenance": [],
      "authorship_tag": "ABX9TyPsjeeS6KEfVT5nVl+Z3xUG",
      "include_colab_link": true
    },
    "kernelspec": {
      "name": "python3",
      "display_name": "Python 3"
    },
    "language_info": {
      "name": "python"
    }
  },
  "cells": [
    {
      "cell_type": "markdown",
      "metadata": {
        "id": "view-in-github",
        "colab_type": "text"
      },
      "source": [
        "<a href=\"https://colab.research.google.com/github/tarumi283/tarumi/blob/main/%E9%81%BA%E4%BC%9D%E5%AD%90_%E7%B5%9E%E3%82%8A%E8%BE%BC%E3%81%BF_%E3%83%97%E3%83%AD%E3%82%B0%E3%83%A9%E3%83%A0.ipynb\" target=\"_parent\"><img src=\"https://colab.research.google.com/assets/colab-badge.svg\" alt=\"Open In Colab\"/></a>"
      ]
    },
    {
      "cell_type": "code",
      "source": [
        "!pip install biopython"
      ],
      "metadata": {
        "id": "rBCFF5Iyxh0o"
      },
      "execution_count": null,
      "outputs": []
    },
    {
      "cell_type": "code",
      "source": [
        "import time\n",
        "import pandas as pd\n",
        "from Bio import Entrez\n",
        "\n",
        "# エクセルファイルから特定（これだと3行目）の列を読み込む\n",
        "df = pd.read_excel(\"/content/GV_MⅡ_GSE75738.xls.xlsx\", usecols=[1], engine='openpyxl')\n",
        "\n",
        "# \"Name_GeneSymbol\" 列を遺伝子名のリストに設定\n",
        "gene_names = df[\"Name_GeneSymbol\"].tolist()\n",
        "\n",
        "# NCBIに接続するためのメールアドレスを設定\n",
        "Entrez.email = \"tarumi.wataru@gmail.com\"\n",
        "\n",
        "# 検索するキーワードのリストを指定\n",
        "search_keywords = [\"receptor\"]  # 複数のキーワードをリストで指定, [\"receptor\",\"lignad\"]\n",
        "\n",
        "# リクエストの間隔（秒）を設定\n",
        "request_interval = 3  # 3秒ごとにリクエストを送信\n",
        "\n",
        "# 結果を格納するための空のリスト\n",
        "results = []\n",
        "\n",
        "# 遺伝子名を検索し、関連する遺伝子をリストに追加\n",
        "for gene_name in gene_names:\n",
        "    search_term = f\"{gene_name}[Gene Name]\"\n",
        "    handle = Entrez.esearch(db=\"gene\", term=search_term)\n",
        "    record = Entrez.read(handle)\n",
        "    gene_id_list = record[\"IdList\"]\n",
        "\n",
        "    if gene_id_list:\n",
        "        gene_id = gene_id_list[0]\n",
        "        gene_summary = Entrez.esummary(db=\"gene\", id=gene_id)\n",
        "        try:\n",
        "            gene_info = Entrez.read(gene_summary)\n",
        "            description = gene_info[0].get(\"Description\", \"情報なし\")\n",
        "            # 遺伝子情報を結果に追加する前にキーワードの存在を確認\n",
        "            if any(keyword in description for keyword in search_keywords):\n",
        "                results.append({\"Name_GeneSymbol\": gene_name, \"機能の説明\": description})\n",
        "        except (IndexError, KeyError):\n",
        "            # エラーメッセージを表示する代わりに、処理をスキップ\n",
        "            pass\n",
        "    else:\n",
        "        # エラーメッセージを表示する代わりに、処理をスキップ\n",
        "        pass\n",
        "\n",
        "    # リクエストの間隔を設定\n",
        "    time.sleep(request_interval)\n",
        "\n",
        "# 結果をDataFrameに変換\n",
        "result_df = pd.DataFrame(results)\n",
        "\n",
        "# ヘッダーを指定して結果をエクセルファイルに書き込む\n",
        "result_df.to_excel(\"gene_results.xlsx\", index=False, header=[\"Name_GeneSymbol\", \"機能の説明\"])"
      ],
      "metadata": {
        "colab": {
          "base_uri": "https://localhost:8080/",
          "height": 250
        },
        "id": "6iVRp6jvrR72",
        "outputId": "205a6624-1ecc-4aed-8024-4d56a0f63586"
      },
      "execution_count": null,
      "outputs": [
        {
          "output_type": "error",
          "ename": "KeyboardInterrupt",
          "evalue": "ignored",
          "traceback": [
            "\u001b[0;31m---------------------------------------------------------------------------\u001b[0m",
            "\u001b[0;31mKeyboardInterrupt\u001b[0m                         Traceback (most recent call last)",
            "\u001b[0;32m<ipython-input-11-7cdf7996c49e>\u001b[0m in \u001b[0;36m<cell line: 24>\u001b[0;34m()\u001b[0m\n\u001b[1;32m     45\u001b[0m \u001b[0;34m\u001b[0m\u001b[0m\n\u001b[1;32m     46\u001b[0m     \u001b[0;31m# リクエストの間隔を設定\u001b[0m\u001b[0;34m\u001b[0m\u001b[0;34m\u001b[0m\u001b[0m\n\u001b[0;32m---> 47\u001b[0;31m     \u001b[0mtime\u001b[0m\u001b[0;34m.\u001b[0m\u001b[0msleep\u001b[0m\u001b[0;34m(\u001b[0m\u001b[0mrequest_interval\u001b[0m\u001b[0;34m)\u001b[0m\u001b[0;34m\u001b[0m\u001b[0;34m\u001b[0m\u001b[0m\n\u001b[0m\u001b[1;32m     48\u001b[0m \u001b[0;34m\u001b[0m\u001b[0m\n\u001b[1;32m     49\u001b[0m \u001b[0;31m# 結果をDataFrameに変換\u001b[0m\u001b[0;34m\u001b[0m\u001b[0;34m\u001b[0m\u001b[0m\n",
            "\u001b[0;31mKeyboardInterrupt\u001b[0m: "
          ]
        }
      ]
    }
  ]
}