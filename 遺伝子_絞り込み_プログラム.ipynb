{
  "nbformat": 4,
  "nbformat_minor": 0,
  "metadata": {
    "colab": {
      "name": "Between_subject 2W ANOVA.ipynb",
      "provenance": [],
      "authorship_tag": "ABX9TyOMLrd9UCEJk9WkQzizGou2",
      "include_colab_link": true
    },
    "kernelspec": {
      "name": "python3",
      "display_name": "Python 3"
    },
    "language_info": {
      "name": "python"
    }
  },
  "cells": [
    {
      "cell_type": "markdown",
      "metadata": {
        "id": "view-in-github",
        "colab_type": "text"
      },
      "source": [
        "<a href=\"https://colab.research.google.com/github/tarumi283/tarumi/blob/main/%E9%81%BA%E4%BC%9D%E5%AD%90_%E7%B5%9E%E3%82%8A%E8%BE%BC%E3%81%BF_%E3%83%97%E3%83%AD%E3%82%B0%E3%83%A9%E3%83%A0.ipynb\" target=\"_parent\"><img src=\"https://colab.research.google.com/assets/colab-badge.svg\" alt=\"Open In Colab\"/></a>"
      ]
    },
    {
      "cell_type": "code",
      "source": [
        "import pandas as pd\n",
        "from Bio import Entrez\n",
        "\n",
        "# エクセルファイルから遺伝子名のリストを読み込む\n",
        "df = pd.read_excel(\"gene_names.xlsx\", header=None)  # エクセルファイルのパスを指定\n",
        "gene_names = df[0].tolist()\n",
        "\n",
        "# NCBIに接続するためのメールアドレスを設定\n",
        "Entrez.email = \"tarumi.wataru@gmail.com\"\n",
        "\n",
        "# 結果を格納するための空のリスト\n",
        "results = []\n",
        "\n",
        "# 遺伝子名を検索し、特定の機能を含む遺伝子をリストに追加\n",
        "desired_function = \"receptor\"  # 絞り込みたい機能を指定\n",
        "for gene_name in gene_names:\n",
        "    search_term = f\"{gene_name}[Gene Name]\"\n",
        "    handle = Entrez.esearch(db=\"gene\", term=search_term)\n",
        "    record = Entrez.read(handle)\n",
        "    gene_id_list = record[\"IdList\"]\n",
        "\n",
        "    if gene_id_list:\n",
        "        gene_id = gene_id_list[0]\n",
        "        gene_summary = Entrez.esummary(db=\"gene\", id=gene_id)\n",
        "        gene_info = Entrez.read(gene_summary)[0]\n",
        "        description = gene_info[\"Description\"]\n",
        "\n",
        "        # 絞り込み条件を満たす場合のみ結果に追加\n",
        "        if desired_function in description:\n",
        "            results.append({\"遺伝子名\": gene_name, \"機能の説明\": description})\n",
        "\n",
        "# 結果をDataFrameに変換\n",
        "result_df = pd.DataFrame(results)\n",
        "\n",
        "# 結果をエクセルファイルに書き込む\n",
        "result_df.to_excel(\"gene_results.xlsx\", index=False)"
      ],
      "metadata": {
        "id": "UrbOqHqgg6l2"
      },
      "execution_count": null,
      "outputs": []
    }
  ]
}