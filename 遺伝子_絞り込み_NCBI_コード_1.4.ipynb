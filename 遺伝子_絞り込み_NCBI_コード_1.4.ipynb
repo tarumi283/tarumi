{
  "nbformat": 4,
  "nbformat_minor": 0,
  "metadata": {
    "colab": {
      "provenance": [],
      "authorship_tag": "ABX9TyNAZt2omNY2P1/+UpqXC9Bs",
      "include_colab_link": true
    },
    "kernelspec": {
      "name": "python3",
      "display_name": "Python 3"
    },
    "language_info": {
      "name": "python"
    }
  },
  "cells": [
    {
      "cell_type": "markdown",
      "metadata": {
        "id": "view-in-github",
        "colab_type": "text"
      },
      "source": [
        "<a href=\"https://colab.research.google.com/github/tarumi283/tarumi/blob/main/%E9%81%BA%E4%BC%9D%E5%AD%90_%E7%B5%9E%E3%82%8A%E8%BE%BC%E3%81%BF_NCBI_%E3%82%B3%E3%83%BC%E3%83%89_1.4.ipynb\" target=\"_parent\"><img src=\"https://colab.research.google.com/assets/colab-badge.svg\" alt=\"Open In Colab\"/></a>"
      ]
    },
    {
      "cell_type": "code",
      "execution_count": 1,
      "metadata": {
        "id": "HInp4KwT48r0",
        "outputId": "966dd500-57e0-418d-ba6f-3d446b332edc",
        "colab": {
          "base_uri": "https://localhost:8080/"
        }
      },
      "outputs": [
        {
          "output_type": "stream",
          "name": "stdout",
          "text": [
            "Collecting biopython\n",
            "  Downloading biopython-1.81-cp310-cp310-manylinux_2_17_x86_64.manylinux2014_x86_64.whl (3.1 MB)\n",
            "\u001b[2K     \u001b[90m━━━━━━━━━━━━━━━━━━━━━━━━━━━━━━━━━━━━━━━━\u001b[0m \u001b[32m3.1/3.1 MB\u001b[0m \u001b[31m14.2 MB/s\u001b[0m eta \u001b[36m0:00:00\u001b[0m\n",
            "\u001b[?25hRequirement already satisfied: numpy in /usr/local/lib/python3.10/dist-packages (from biopython) (1.23.5)\n",
            "Installing collected packages: biopython\n",
            "Successfully installed biopython-1.81\n"
          ]
        }
      ],
      "source": [
        "!pip install biopython"
      ]
    },
    {
      "cell_type": "code",
      "source": [
        "import pandas as pd\n",
        "from Bio import Entrez\n",
        "import time\n",
        "\n",
        "# BiopythonのEntrezモジュールを初期化\n",
        "Entrez.email = \"tarumi.wataru@gmail.com\"  # あなたのメールアドレスを設定してください\n",
        "Entrez.api_key = \"d9702839c15b5365a594355c0c6974cc6207\"  # あなたのAPIキーを設定してください\n",
        "\n",
        "# エクセルファイルから遺伝子IDを読み込む\n",
        "excel_file = \"/content/spermatogenesis_GSE74896.xls.xlsx\"  # エクセルファイルのパスを指定してください\n",
        "start_row = 8001  # 開始行を設定\n",
        "end_row = 12050  # 終了行を設定\n",
        "\n",
        "# 読み込む行数を設定\n",
        "N = end_row - start_row + 1\n",
        "\n",
        "gene_df = pd.read_excel(excel_file, skiprows=range(1, start_row), nrows=N)\n",
        "gene_ids = gene_df.iloc[:, 0].tolist()  # 一列目の遺伝子IDを取得\n",
        "\n",
        "\n",
        "# 検索対象のキーワードを指定\n",
        "search_keyword = \"receptor\"  # 検索したいキーワードを指定してください\n",
        "\n",
        "# 遺伝子情報を取得し、指定したキーワードを含む遺伝子と遺伝子名を抽出\n",
        "matching_genes = []\n",
        "\n",
        "# リクエストの間隔を設定\n",
        "request_interval = 10  # 5秒ごとにリクエストを送信\n",
        "batch_size = 50  # 一度に処理する遺伝子IDの数\n",
        "\n",
        "for i in range(0, len(gene_ids), batch_size):\n",
        "    batch_gene_ids = gene_ids[i:i+batch_size]\n",
        "\n",
        "    # batch_gene_idsを文字列に変換\n",
        "    batch_gene_ids = [str(gene_id) for gene_id in batch_gene_ids]\n",
        "\n",
        "    try:\n",
        "        # EPostリクエストを使用して遺伝子IDをアップロード\n",
        "        post_handle = Entrez.epost(db=\"gene\", id=\",\".join(batch_gene_ids))\n",
        "        post_result = Entrez.read(post_handle)\n",
        "        web_history = post_result[\"WebEnv\"]\n",
        "        query_key = post_result[\"QueryKey\"]\n",
        "        post_handle.close()\n",
        "\n",
        "        # EUtilリクエストを使用してデータを取得\n",
        "        fetch_handle = Entrez.efetch(db=\"gene\", query_key=query_key, WebEnv=web_history, retmode=\"xml\")\n",
        "        records = Entrez.read(fetch_handle)\n",
        "        fetch_handle.close()\n",
        "\n",
        "        # 遺伝子情報からキーワードを検索\n",
        "        for record in records:\n",
        "            gene_summary = record.get(\"Entrezgene_summary\", \"\")\n",
        "            gene_id = record.get(\"Entrezgene_trackinfo\", {}).get(\"Gene-track_geneid\", \"N/A\")\n",
        "            gene_name = record.get(\"Entrezgene_gene\", \"N/A\")\n",
        "\n",
        "            if search_keyword in gene_summary:\n",
        "                matching_genes.append((gene_id, gene_name))\n",
        "    except Exception as e:\n",
        "        print(f\"エラーが発生しました: {e}\")\n",
        "\n",
        "    # リクエストの間隔を設ける\n",
        "    time.sleep(request_interval)\n",
        "\n",
        "# 検索結果をCSVファイルに保存\n",
        "if matching_genes:\n",
        "    result_df = pd.DataFrame(matching_genes, columns=[\"Gene ID\", \"Gene Name\"])\n",
        "    result_csv = \"matching_genes.csv\"\n",
        "    result_df.to_csv(result_csv, index=False)\n",
        "    print(f\"以下の遺伝子がキーワードを含んでいます。結果は'{result_csv}'に保存されました:\")\n",
        "    print(result_df)\n",
        "else:\n",
        "    print(\"指定したキーワードを含む遺伝子は見つかりませんでした。\")"
      ],
      "metadata": {
        "id": "ycWkh4AEaIqo",
        "outputId": "f28ff3dd-5f0b-413e-807c-6a195153c323",
        "colab": {
          "base_uri": "https://localhost:8080/"
        }
      },
      "execution_count": 7,
      "outputs": [
        {
          "output_type": "stream",
          "name": "stdout",
          "text": [
            "エラーが発生しました: HTTP Error 400: Bad Request\n",
            "エラーが発生しました: HTTP Error 400: Bad Request\n",
            "エラーが発生しました: IncompleteRead(1983 bytes read)\n",
            "エラーが発生しました: HTTP Error 400: Bad Request\n",
            "エラーが発生しました: HTTP Error 400: Bad Request\n",
            "エラーが発生しました: HTTP Error 400: Bad Request\n",
            "エラーが発生しました: HTTP Error 400: Bad Request\n",
            "以下の遺伝子がキーワードを含んでいます。結果は'matching_genes.csv'に保存されました:\n",
            "    Gene ID                                          Gene Name\n",
            "0       N/A  {'Gene-ref': {'Gene-ref_locus': 'NLRP2', 'Gene...\n",
            "1       N/A  {'Gene-ref': {'Gene-ref_locus': 'NLRP2', 'Gene...\n",
            "2       N/A  {'Gene-ref': {'Gene-ref_locus': 'NLRP2', 'Gene...\n",
            "3       N/A  {'Gene-ref': {'Gene-ref_locus': 'NLRP2', 'Gene...\n",
            "4       N/A  {'Gene-ref': {'Gene-ref_locus': 'OR4F4', 'Gene...\n",
            "..      ...                                                ...\n",
            "533     N/A  {'Gene-ref': {'Gene-ref_locus': 'BMP5', 'Gene-...\n",
            "534     N/A  {'Gene-ref': {'Gene-ref_locus': 'LILRB4', 'Gen...\n",
            "535     N/A  {'Gene-ref': {'Gene-ref_locus': 'THEMIS', 'Gen...\n",
            "536     N/A  {'Gene-ref': {'Gene-ref_locus': 'P2RX1', 'Gene...\n",
            "537     N/A  {'Gene-ref': {'Gene-ref_locus': 'MMD2', 'Gene-...\n",
            "\n",
            "[538 rows x 2 columns]\n"
          ]
        }
      ]
    }
  ]
}