{
  "nbformat": 4,
  "nbformat_minor": 0,
  "metadata": {
    "colab": {
      "provenance": [],
      "authorship_tag": "ABX9TyOmaQ6qigSdRi7NYeZ8NaiM",
      "include_colab_link": true
    },
    "kernelspec": {
      "name": "python3",
      "display_name": "Python 3"
    },
    "language_info": {
      "name": "python"
    }
  },
  "cells": [
    {
      "cell_type": "markdown",
      "metadata": {
        "id": "view-in-github",
        "colab_type": "text"
      },
      "source": [
        "<a href=\"https://colab.research.google.com/github/tarumi283/tarumi/blob/main/2way_ANOVA_Tukey_Kramer.ipynb\" target=\"_parent\"><img src=\"https://colab.research.google.com/assets/colab-badge.svg\" alt=\"Open In Colab\"/></a>"
      ]
    },
    {
      "cell_type": "code",
      "execution_count": null,
      "metadata": {
        "id": "sfar-vk1ch8p"
      },
      "outputs": [],
      "source": [
        "pip install pandas statsmodels"
      ]
    },
    {
      "cell_type": "code",
      "source": [
        "import pandas as pd\n",
        "import statsmodels.api as sm\n",
        "from statsmodels.formula.api import ols\n",
        "from statsmodels.stats.multicomp import MultiComparison\n",
        "\n",
        "# CSVファイルのパス\n",
        "csv_file_path = 'path_to_your_file.csv'\n",
        "\n",
        "# CSVファイルの読み込み\n",
        "data = pd.read_csv(csv_file_path)\n",
        "\n",
        "# データの確認\n",
        "print(\"データの先頭部分:\\n\", data.head())\n",
        "\n",
        "# 因子Aと因子Bの名前を適切に設定してください\n",
        "factorA = 'factorA'  # 因子Aを示す列名\n",
        "factorB = 'factorB'  # 因子Bを示す列名\n",
        "value_column = 'value'  # 値を示す列名\n",
        "\n",
        "# 2要因分散分析の実行\n",
        "formula = f'{value_column} ~ C({factorA}) + C({factorB}) + C({factorA}):C({factorB})'\n",
        "model = ols(formula, data=data).fit()\n",
        "anova_table = sm.stats.anova_lm(model, typ=2)\n",
        "print(\"\\n2要因分散分析の結果:\\n\", anova_table)\n",
        "\n",
        "# Tukey-Kramer HSDの実行\n",
        "mc = MultiComparison(data[value_column], data[factorA])\n",
        "result_A = mc.tukeyhsd()\n",
        "\n",
        "mc = MultiComparison(data[value_column], data[factorB])\n",
        "result_B = mc.tukeyhsd()\n",
        "\n",
        "mc = MultiComparison(data[value_column], data[[factorA, factorB]])\n",
        "result_interaction = mc.tukeyhsd()\n",
        "\n",
        "# 結果の表示\n",
        "print(\"\\nTukey-Kramer HSDの結果 (因子Aの比較):\")\n",
        "print(result_A)\n",
        "\n",
        "print(\"\\nTukey-Kramer HSDの結果 (因子Bの比較):\")\n",
        "print(result_B)\n",
        "\n",
        "print(\"\\nTukey-Kramer HSDの結果 (交互作用の比較):\")\n",
        "print(result_interaction)"
      ],
      "metadata": {
        "id": "YCgr1w-Dciwe"
      },
      "execution_count": null,
      "outputs": []
    }
  ]
}