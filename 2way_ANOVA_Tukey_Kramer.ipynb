{
  "nbformat": 4,
  "nbformat_minor": 0,
  "metadata": {
    "colab": {
      "provenance": [],
      "authorship_tag": "ABX9TyMfSOCs+V92T7zNotSoegGj",
      "include_colab_link": true
    },
    "kernelspec": {
      "name": "python3",
      "display_name": "Python 3"
    },
    "language_info": {
      "name": "python"
    }
  },
  "cells": [
    {
      "cell_type": "markdown",
      "metadata": {
        "id": "view-in-github",
        "colab_type": "text"
      },
      "source": [
        "<a href=\"https://colab.research.google.com/github/tarumi283/tarumi/blob/main/2way_ANOVA_Tukey_Kramer.ipynb\" target=\"_parent\"><img src=\"https://colab.research.google.com/assets/colab-badge.svg\" alt=\"Open In Colab\"/></a>"
      ]
    },
    {
      "cell_type": "code",
      "execution_count": 2,
      "metadata": {
        "id": "sfar-vk1ch8p",
        "outputId": "34a8b176-bb98-4c5c-d823-b67a9ab1e123",
        "colab": {
          "base_uri": "https://localhost:8080/"
        }
      },
      "outputs": [
        {
          "output_type": "stream",
          "name": "stdout",
          "text": [
            "Requirement already satisfied: pandas in /usr/local/lib/python3.10/dist-packages (2.0.3)\n",
            "Requirement already satisfied: statsmodels in /usr/local/lib/python3.10/dist-packages (0.14.2)\n",
            "Requirement already satisfied: python-dateutil>=2.8.2 in /usr/local/lib/python3.10/dist-packages (from pandas) (2.8.2)\n",
            "Requirement already satisfied: pytz>=2020.1 in /usr/local/lib/python3.10/dist-packages (from pandas) (2023.4)\n",
            "Requirement already satisfied: tzdata>=2022.1 in /usr/local/lib/python3.10/dist-packages (from pandas) (2024.1)\n",
            "Requirement already satisfied: numpy>=1.21.0 in /usr/local/lib/python3.10/dist-packages (from pandas) (1.25.2)\n",
            "Requirement already satisfied: scipy!=1.9.2,>=1.8 in /usr/local/lib/python3.10/dist-packages (from statsmodels) (1.11.4)\n",
            "Requirement already satisfied: patsy>=0.5.6 in /usr/local/lib/python3.10/dist-packages (from statsmodels) (0.5.6)\n",
            "Requirement already satisfied: packaging>=21.3 in /usr/local/lib/python3.10/dist-packages (from statsmodels) (24.1)\n",
            "Requirement already satisfied: six in /usr/local/lib/python3.10/dist-packages (from patsy>=0.5.6->statsmodels) (1.16.0)\n"
          ]
        }
      ],
      "source": [
        "pip install pandas statsmodels"
      ]
    },
    {
      "cell_type": "code",
      "source": [
        "import pandas as pd\n",
        "import statsmodels.api as sm\n",
        "from statsmodels.formula.api import ols\n",
        "from statsmodels.stats.multicomp import MultiComparison\n",
        "\n",
        "# CSVファイルのパス\n",
        "csv_file_path = '/content/result_damping rate.csv'\n",
        "\n",
        "# CSVファイルの読み込み\n",
        "data = pd.read_csv(csv_file_path)\n",
        "\n",
        "# データの確認\n",
        "print(\"データの先頭部分:\\n\", data.head())\n",
        "\n",
        "# 因子Aと因子Bの名前を適切に設定してください\n",
        "factorA = 'factorA'  # 因子Aを示す列名\n",
        "factorB = 'factorB'  # 因子Bを示す列名\n",
        "value_column = 'value'  # 値を示す列名\n",
        "\n",
        "# 2要因分散分析の実行\n",
        "formula = f'{value_column} ~ C({factorA}) + C({factorB}) + C({factorA}):C({factorB})'\n",
        "model = ols(formula, data=data).fit()\n",
        "anova_table = sm.stats.anova_lm(model, typ=2)\n",
        "print(\"\\n2要因分散分析の結果:\\n\", anova_table)\n",
        "\n",
        "# 因子Aに対するTukey-Kramer HSDの実行\n",
        "mc_A = MultiComparison(data[value_column], data[factorA])\n",
        "result_A = mc_A.tukeyhsd()\n",
        "print(\"\\nTukey-Kramer HSDの結果 (因子Aの比較):\")\n",
        "print(result_A)\n",
        "print(result_A.summary())\n",
        "\n",
        "# 因子Bに対するTukey-Kramer HSDの実行\n",
        "mc_B = MultiComparison(data[value_column], data[factorB])\n",
        "result_B = mc_B.tukeyhsd()\n",
        "print(\"\\nTukey-Kramer HSDの結果 (因子Bの比較):\")\n",
        "print(result_B)\n",
        "print(result_B.summary())\n",
        "\n",
        "# 交互作用効果に対するTukey-Kramer HSD検定のための新しい列を作成\n",
        "data['interaction'] = data[factorA].astype(str) + ':' + data[factorB].astype(str)\n",
        "mc_interaction = MultiComparison(data[value_column], data['interaction'])\n",
        "result_interaction = mc_interaction.tukeyhsd()\n",
        "print(\"\\nTukey-Kramer HSDの結果 (交互作用の比較):\")\n",
        "print(result_interaction)\n",
        "print(result_interaction.summary())"
      ],
      "metadata": {
        "id": "09fQdtKP6cMV",
        "outputId": "bceea4e5-0ac9-411b-a75f-3ad537992832",
        "colab": {
          "base_uri": "https://localhost:8080/"
        }
      },
      "execution_count": 7,
      "outputs": [
        {
          "output_type": "stream",
          "name": "stdout",
          "text": [
            "データの先頭部分:\n",
            "        value factorA factorB\n",
            "0  37.160811    dH2O    DMSO\n",
            "1  36.801752    dH2O    DMSO\n",
            "2  39.536168    dH2O    DMSO\n",
            "3  36.419927    dH2O    DMSO\n",
            "4  40.297669    dH2O    DMSO\n",
            "\n",
            "2要因分散分析の結果:\n",
            "                            sum_sq    df          F        PR(>F)\n",
            "C(factorA)             769.686864   1.0  91.340982  1.086016e-08\n",
            "C(factorB)             228.238813   1.0  27.085765  5.046519e-05\n",
            "C(factorA):C(factorB)   10.551595   1.0   1.252188  2.770830e-01\n",
            "Residual               160.103932  19.0        NaN           NaN\n",
            "\n",
            "Tukey-Kramer HSDの結果 (因子Aの比較):\n",
            "Multiple Comparison of Means - Tukey HSD, FWER=0.05 \n",
            "====================================================\n",
            "group1 group2 meandiff p-adj  lower    upper  reject\n",
            "----------------------------------------------------\n",
            "   Oxi   dH2O -11.3057   0.0 -15.0891 -7.5223   True\n",
            "----------------------------------------------------\n",
            "Multiple Comparison of Means - Tukey HSD, FWER=0.05 \n",
            "====================================================\n",
            "group1 group2 meandiff p-adj  lower    upper  reject\n",
            "----------------------------------------------------\n",
            "   Oxi   dH2O -11.3057   0.0 -15.0891 -7.5223   True\n",
            "----------------------------------------------------\n",
            "\n",
            "Tukey-Kramer HSDの結果 (因子Bの比較):\n",
            "Multiple Comparison of Means - Tukey HSD, FWER=0.05\n",
            "===================================================\n",
            "group1 group2 meandiff p-adj   lower   upper reject\n",
            "---------------------------------------------------\n",
            "   ABT   DMSO  -5.7858 0.0508 -11.5947 0.023  False\n",
            "---------------------------------------------------\n",
            "Multiple Comparison of Means - Tukey HSD, FWER=0.05\n",
            "===================================================\n",
            "group1 group2 meandiff p-adj   lower   upper reject\n",
            "---------------------------------------------------\n",
            "   ABT   DMSO  -5.7858 0.0508 -11.5947 0.023  False\n",
            "---------------------------------------------------\n",
            "\n",
            "Tukey-Kramer HSDの結果 (交互作用の比較):\n",
            "    Multiple Comparison of Means - Tukey HSD, FWER=0.05    \n",
            "===========================================================\n",
            " group1    group2  meandiff p-adj   lower    upper   reject\n",
            "-----------------------------------------------------------\n",
            " Oxi:ABT  Oxi:DMSO  -7.7364 0.0016 -12.6789  -2.7938   True\n",
            " Oxi:ABT  dH2O:ABT -13.0162    0.0 -17.9588  -8.0737   True\n",
            " Oxi:ABT dH2O:DMSO -18.0349    0.0 -22.9774 -13.0923   True\n",
            "Oxi:DMSO  dH2O:ABT  -5.2799 0.0248  -9.9924  -0.5673   True\n",
            "Oxi:DMSO dH2O:DMSO -10.2985    0.0  -15.011   -5.586   True\n",
            "dH2O:ABT dH2O:DMSO  -5.0186 0.0344  -9.7312  -0.3061   True\n",
            "-----------------------------------------------------------\n",
            "    Multiple Comparison of Means - Tukey HSD, FWER=0.05    \n",
            "===========================================================\n",
            " group1    group2  meandiff p-adj   lower    upper   reject\n",
            "-----------------------------------------------------------\n",
            " Oxi:ABT  Oxi:DMSO  -7.7364 0.0016 -12.6789  -2.7938   True\n",
            " Oxi:ABT  dH2O:ABT -13.0162    0.0 -17.9588  -8.0737   True\n",
            " Oxi:ABT dH2O:DMSO -18.0349    0.0 -22.9774 -13.0923   True\n",
            "Oxi:DMSO  dH2O:ABT  -5.2799 0.0248  -9.9924  -0.5673   True\n",
            "Oxi:DMSO dH2O:DMSO -10.2985    0.0  -15.011   -5.586   True\n",
            "dH2O:ABT dH2O:DMSO  -5.0186 0.0344  -9.7312  -0.3061   True\n",
            "-----------------------------------------------------------\n"
          ]
        }
      ]
    }
  ]
}