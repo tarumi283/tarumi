{
  "nbformat": 4,
  "nbformat_minor": 0,
  "metadata": {
    "colab": {
      "name": "Between_subject 2W ANOVA.ipynb",
      "provenance": [],
      "authorship_tag": "ABX9TyOdrWjgVJmX325apamxZ92c",
      "include_colab_link": true
    },
    "kernelspec": {
      "name": "python3",
      "display_name": "Python 3"
    },
    "language_info": {
      "name": "python"
    }
  },
  "cells": [
    {
      "cell_type": "markdown",
      "metadata": {
        "id": "view-in-github",
        "colab_type": "text"
      },
      "source": [
        "<a href=\"https://colab.research.google.com/github/tarumi283/tarumi/blob/main/detrend.ipynb\" target=\"_parent\"><img src=\"https://colab.research.google.com/assets/colab-badge.svg\" alt=\"Open In Colab\"/></a>"
      ]
    },
    {
      "cell_type": "code",
      "source": [
        "import numpy as np\n",
        "from scipy import signal\n",
        "import matplotlib.pyplot as plt\n",
        "import pandas as pd\n",
        "\n",
        "# 時系列のサンプルデータ作成\n",
        "n =                          # データ数\n",
        "dt = 144                       # サンプリング間隔\n",
        "\n",
        "t = np.linspace(1, n, n)*dt-dt\n",
        "y = pd.read_csv('/content/drive/MyDrive/Colab Notebooks/demo_.csv')\n",
        "\n",
        "yd = signal.detrend(y)\n",
        "\n",
        "plt.figure(figsize=(12,9))\n",
        "plt.plot(t, y, label=\"Original Data\")\n",
        "plt.plot(t, y-yd, \"--r\", label=\"Trend\")\n",
        "plt.plot(t, yd, \"c\", label=\"Detrended Data\")\n",
        "plt.axhline(0, color=\"k\", linestyle=\"--\", label=\"Mean of Detrended Data\")\n",
        "plt.axis(\"tight\")\n",
        "plt.legend(loc=0)\n",
        "plt.show()\n"
      ],
      "metadata": {
        "id": "rjgxJuDfW7ea"
      },
      "execution_count": null,
      "outputs": []
    }
  ]
}