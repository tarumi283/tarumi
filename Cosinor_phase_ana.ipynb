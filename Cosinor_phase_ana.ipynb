{
  "nbformat": 4,
  "nbformat_minor": 0,
  "metadata": {
    "colab": {
      "provenance": [],
      "authorship_tag": "ABX9TyNlCfrLYFbi88v/4oQZlP7e",
      "include_colab_link": true
    },
    "kernelspec": {
      "name": "python3",
      "display_name": "Python 3"
    },
    "language_info": {
      "name": "python"
    }
  },
  "cells": [
    {
      "cell_type": "markdown",
      "metadata": {
        "id": "view-in-github",
        "colab_type": "text"
      },
      "source": [
        "<a href=\"https://colab.research.google.com/github/tarumi283/tarumi/blob/main/Cosinor_phase_ana.ipynb\" target=\"_parent\"><img src=\"https://colab.research.google.com/assets/colab-badge.svg\" alt=\"Open In Colab\"/></a>"
      ]
    },
    {
      "cell_type": "code",
      "execution_count": 10,
      "metadata": {
        "colab": {
          "base_uri": "https://localhost:8080/"
        },
        "id": "NlwzcFUZ3dT_",
        "outputId": "5c99533d-379d-4ec6-ef32-04885eded398"
      },
      "outputs": [
        {
          "output_type": "stream",
          "name": "stdout",
          "text": [
            "Results with absolute amplitude saved to /content/cosinor_analysis_results.csv\n",
            "  Measurement        MESOR    Amplitude  Phase (radians)\n",
            "0         RLU  1183.970373    83.079112         0.044558\n",
            "1       RLU.1    37.340763  1791.987622         0.824111\n",
            "2       RLU.2    94.677396  2081.350946         0.838419\n",
            "3       RLU.3    89.359059  2098.833220         0.851322\n",
            "4       RLU.4   122.712252  2263.912852         0.981910\n"
          ]
        }
      ],
      "source": [
        "import numpy as np\n",
        "import pandas as pd\n",
        "import matplotlib.pyplot as plt\n",
        "from scipy.optimize import curve_fit\n",
        "\n",
        "# データの読み込み\n",
        "csv_file_path = '/content/2024-0923-1048_Plate1_F0_N_D.csv'\n",
        "\n",
        "# メタデータの10行をスキップして、正しいラベルを含むデータを読み込み\n",
        "data = pd.read_csv(csv_file_path, skiprows=11)\n",
        "\n",
        "# コサイン関数の定義 (周期 T が既知)\n",
        "T = 24  # 周期を24時間と仮定\n",
        "\n",
        "def cosinor_model(t, mesor, amplitude, phase):\n",
        "    \"\"\"\n",
        "    t: 時間\n",
        "    mesor: 平均レベル (MESOR)\n",
        "    amplitude: 振幅\n",
        "    phase: acrophase (位相)\n",
        "    \"\"\"\n",
        "    return mesor + amplitude * np.cos(2 * np.pi * t / T - phase)\n",
        "\n",
        "# 各測定項目の「Time(h)」と「RLU」をペアで処理\n",
        "measurement_pairs = []\n",
        "for i in range(1, len(data.columns), 2):  # Time(h) と RLU をペアにする\n",
        "    time_col = data.columns[i]  # \"Time(h)\"\n",
        "    rlu_col = data.columns[i+1]  # \"RLU\"\n",
        "    measurement_pairs.append((time_col, rlu_col))\n",
        "\n",
        "# 特定の時間帯を設定（例：時間の開始と終了）\n",
        "start_time = 7.0  # 解析したい時間範囲の開始（単位: 時間）\n",
        "end_time = 30.0   # 解析したい時間範囲の終了（単位: 時間）\n",
        "\n",
        "# コサイナー解析の結果を保存するリスト\n",
        "results = []\n",
        "\n",
        "# 各測定項目に対してコサイナー解析を実行\n",
        "for time_col, rlu_col in measurement_pairs:\n",
        "    # 各測定項目の時間データと RLU データを取得し、数値に変換\n",
        "    time_data = pd.to_numeric(data[time_col], errors='coerce')\n",
        "    rlu_data = pd.to_numeric(data[rlu_col], errors='coerce')\n",
        "\n",
        "    # 特定の時間範囲にデータをフィルタリング\n",
        "    valid_indices = (time_data >= start_time) & (time_data <= end_time) & (rlu_data.notna())\n",
        "    time_data_filtered = time_data[valid_indices]\n",
        "    rlu_data_filtered = rlu_data[valid_indices]\n",
        "\n",
        "    # フィルタされたデータが空でないことを確認\n",
        "    if len(time_data_filtered) > 0 and len(rlu_data_filtered) > 0:\n",
        "        # 初期値を設定してコサイン関数にフィット\n",
        "        initial_guess = [np.mean(rlu_data_filtered), (np.max(rlu_data_filtered) - np.min(rlu_data_filtered)) / 2, 0.0]\n",
        "        params, params_covariance = curve_fit(cosinor_model, time_data_filtered, rlu_data_filtered, p0=initial_guess)\n",
        "\n",
        "        # フィット結果の取得\n",
        "        fitted_mesor, fitted_amplitude, fitted_phase = params\n",
        "\n",
        "        # 結果を保存\n",
        "        results.append({\n",
        "            'Measurement': rlu_col,\n",
        "            'MESOR': fitted_mesor,\n",
        "            'Amplitude': fitted_amplitude,\n",
        "            'Phase (radians)': fitted_phase\n",
        "        })\n",
        "\n",
        "# コサイナー解析の結果をデータフレームとして表示\n",
        "results_df = pd.DataFrame(results)\n",
        "\n",
        "# 振幅を絶対値に変換\n",
        "results_df['Amplitude'] = results_df['Amplitude'].abs()\n",
        "\n",
        "# 解析結果をCSVファイルに保存\n",
        "output_csv_file_path = '/content/cosinor_analysis_results.csv'\n",
        "results_df.to_csv(output_csv_file_path, index=False)\n",
        "\n",
        "print(f\"Results with absolute amplitude saved to {output_csv_file_path}\")\n",
        "\n",
        "# 結果のプレビュー表示\n",
        "print(results_df.head())"
      ]
    }
  ]
}