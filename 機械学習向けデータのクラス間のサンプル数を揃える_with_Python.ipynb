{
  "nbformat": 4,
  "nbformat_minor": 0,
  "metadata": {
    "colab": {
      "name": "機械学習向けデータのクラス間のサンプル数を揃える with Python.ipynb",
      "provenance": [],
      "authorship_tag": "ABX9TyP3XjQFFDIGDQ+7KPdjrbYq",
      "include_colab_link": true
    },
    "kernelspec": {
      "name": "python3",
      "display_name": "Python 3"
    },
    "language_info": {
      "name": "python"
    }
  },
  "cells": [
    {
      "cell_type": "markdown",
      "metadata": {
        "id": "view-in-github",
        "colab_type": "text"
      },
      "source": [
        "<a href=\"https://colab.research.google.com/github/tarumi283/tarumi/blob/main/%E6%A9%9F%E6%A2%B0%E5%AD%A6%E7%BF%92%E5%90%91%E3%81%91%E3%83%87%E3%83%BC%E3%82%BF%E3%81%AE%E3%82%AF%E3%83%A9%E3%82%B9%E9%96%93%E3%81%AE%E3%82%B5%E3%83%B3%E3%83%97%E3%83%AB%E6%95%B0%E3%82%92%E6%8F%83%E3%81%88%E3%82%8B_with_Python.ipynb\" target=\"_parent\"><img src=\"https://colab.research.google.com/assets/colab-badge.svg\" alt=\"Open In Colab\"/></a>"
      ]
    },
    {
      "cell_type": "markdown",
      "source": [
        "\n",
        "#   ・ラベルデータのサンプル数を揃える\n",
        "#   ・1番の処理に合わせてデータ配列の要素も取り除く\n"
      ],
      "metadata": {
        "id": "sVy1VdiM3PdB"
      }
    },
    {
      "cell_type": "code",
      "execution_count": 2,
      "metadata": {
        "colab": {
          "base_uri": "https://localhost:8080/"
        },
        "id": "2SsjV11pQj2F",
        "outputId": "7fa83b69-cdb3-44ca-815d-e1d0879aeb83"
      },
      "outputs": [
        {
          "output_type": "stream",
          "name": "stdout",
          "text": [
            "data: [10 11 12 13 14 15 16 17 18 19]\n",
            "label: [0 0 1 1 1 2 2 2 2 2]\n",
            "\n",
            "各クラスのサンプル数を計算\n",
            "sample_nums: [2. 3. 5.]\n",
            "min_num: 2.0\n",
            "\n",
            "各クラスのサンプル数を揃える\n",
            "クラス0 削除サンプル数: 0 (0.00％)\n",
            "クラス1 削除サンプル数: 1 (33.33％)\n",
            "\tindexes: [2, 3, 4]\n",
            "\tdel_indexes: [2]\n",
            "クラス2 削除サンプル数: 3 (60.00％)\n",
            "\tindexes: [4, 5, 6, 7, 8]\n",
            "\tdel_indexes: [8, 5, 6]\n",
            "\n",
            "data: [10 11 13 14 15 18]\n",
            "label: [0 0 1 1 2 2]\n"
          ]
        }
      ],
      "source": [
        "import numpy as np\n",
        "import random\n",
        "\n",
        "# データ配列\n",
        "data = np.array(range(10,20))\n",
        "print(\"data:\", data)\n",
        "# ラベル配列\n",
        "label = np.array([0, 0, 1, 1, 1, 2, 2, 2, 2, 2])\n",
        "print(\"label:\", label)\n",
        "# 全クラスのサンプル数\n",
        "sample_nums = np.array([])\n",
        "\n",
        "print(\"\\n各クラスのサンプル数を計算\")\n",
        "for i in range(max(label)+1):\n",
        "    # 各クラスのサンプル数\n",
        "    sample_num = np.sum(label == i)\n",
        "    # サンプル数管理配列に追加\n",
        "    sample_nums = np.append(sample_nums, sample_num)\n",
        "print(\"sample_nums:\", sample_nums)\n",
        "\n",
        "# 全クラス内の最小サンプル数\n",
        "min_num = np.min(sample_nums)\n",
        "print(\"min_num:\", min_num)\n",
        "\n",
        "\n",
        "print(\"\\n各クラスのサンプル数を揃える\")\n",
        "for i in range(len(sample_nums)):\n",
        "\n",
        "    # 対象クラスのサンプル数と最小サンプル数の差\n",
        "    diff_num = int(sample_nums[i] - min_num)\n",
        "    print(\"クラス%d 削除サンプル数: %d (%0.2f％)\" % (i, diff_num, (diff_num/sample_nums[i])*100))\n",
        "\n",
        "    # 削除する必要が無い場合はスキップ\n",
        "    if diff_num == 0:\n",
        "        continue\n",
        "\n",
        "    # 削除する要素のインデックス\n",
        "    # タプルになっているのでlistに変換 (0番目のインデックスに配置されている)\n",
        "    indexes = list(np.where(label == i)[0])\n",
        "    print(\"\\tindexes:\", indexes)\n",
        "\n",
        "    # 削除するデータのインデックス\n",
        "    del_indexes = random.sample(indexes, diff_num)\n",
        "    print(\"\\tdel_indexes:\", del_indexes)\n",
        "\n",
        "    # データから削除\n",
        "    data = np.delete(data, del_indexes)\n",
        "    label = np.delete(label, del_indexes)\n",
        "\n",
        "\n",
        "print(\"\\ndata:\", data)\n",
        "print(\"label:\", label)"
      ]
    },
    {
      "cell_type": "code",
      "source": [
        ""
      ],
      "metadata": {
        "id": "kQDNRERZQlZy"
      },
      "execution_count": null,
      "outputs": []
    }
  ]
}