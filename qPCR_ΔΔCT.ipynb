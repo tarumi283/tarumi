{
  "nbformat": 4,
  "nbformat_minor": 0,
  "metadata": {
    "colab": {
      "provenance": [],
      "authorship_tag": "ABX9TyMwN/j4i68w8ZKbMGtUk/9h",
      "include_colab_link": true
    },
    "kernelspec": {
      "name": "python3",
      "display_name": "Python 3"
    },
    "language_info": {
      "name": "python"
    }
  },
  "cells": [
    {
      "cell_type": "markdown",
      "metadata": {
        "id": "view-in-github",
        "colab_type": "text"
      },
      "source": [
        "<a href=\"https://colab.research.google.com/github/tarumi283/tarumi/blob/main/qPCR_%CE%94%CE%94CT.ipynb\" target=\"_parent\"><img src=\"https://colab.research.google.com/assets/colab-badge.svg\" alt=\"Open In Colab\"/></a>"
      ]
    },
    {
      "cell_type": "code",
      "execution_count": 3,
      "metadata": {
        "colab": {
          "base_uri": "https://localhost:8080/"
        },
        "id": "SfdYhbeUqE-z",
        "outputId": "cb3a227e-5872-4b3e-8463-288935cb812b"
      },
      "outputs": [
        {
          "output_type": "stream",
          "name": "stdout",
          "text": [
            "ΔCt値の計算結果:\n",
            "     Sample  DeltaCt_HK1  DeltaCt_HK2\n",
            "0  Control1          4.5          4.0\n",
            "1  Control2          4.2          3.7\n",
            "2  Treated1          0.2         -0.2\n",
            "3  Treated2          0.3         -0.1\n",
            "\n",
            "ΔΔCt値の計算結果:\n",
            "     Sample  DeltaDeltaCt_HK1  DeltaDeltaCt_HK2\n",
            "0  Control1              0.15              0.15\n",
            "1  Control2             -0.15             -0.15\n",
            "2  Treated1             -4.15             -4.05\n",
            "3  Treated2             -4.05             -3.95\n",
            "\n",
            "相対発現量:\n",
            "     Sample  RelativeExpression_HK1  RelativeExpression_HK2\n",
            "0  Control1                0.901250                0.901250\n",
            "1  Control2                1.109569                1.109569\n",
            "2  Treated1               17.753112               16.564239\n",
            "3  Treated2               16.564239               15.454981\n",
            "コントロール群の平均Ct値:\n",
            "Target mean: 24.9\n",
            "HK1 mean: 20.55\n",
            "HK2 mean: 21.05\n"
          ]
        }
      ],
      "source": [
        "import pandas as pd\n",
        "import numpy as np\n",
        "\n",
        "# サンプルデータの作成（データを元のものに修正）\n",
        "data = {\n",
        "    'Sample': ['Control1', 'Control2', 'Treated1', 'Treated2'],\n",
        "    'Target_Ct': [25.0, 24.8, 20.0, 20.2],\n",
        "    'Housekeeping1_Ct': [20.5, 20.6, 19.8, 19.9],\n",
        "    'Housekeeping2_Ct': [21.0, 21.1, 20.2, 20.3]\n",
        "}\n",
        "\n",
        "# データフレームの作成\n",
        "df = pd.DataFrame(data)\n",
        "\n",
        "# 平均Ct値の計算（コントロール条件のみ）\n",
        "control_target_mean = df.loc[df['Sample'].str.contains('Control'), 'Target_Ct'].mean()\n",
        "control_hk1_mean = df.loc[df['Sample'].str.contains('Control'), 'Housekeeping1_Ct'].mean()\n",
        "control_hk2_mean = df.loc[df['Sample'].str.contains('Control'), 'Housekeeping2_Ct'].mean()\n",
        "\n",
        "# ΔCt値の計算\n",
        "df['DeltaCt_HK1'] = df['Target_Ct'] - df['Housekeeping1_Ct']\n",
        "df['DeltaCt_HK2'] = df['Target_Ct'] - df['Housekeeping2_Ct']\n",
        "\n",
        "# ΔΔCt値の計算\n",
        "df['DeltaDeltaCt_HK1'] = df['DeltaCt_HK1'] - (control_target_mean - control_hk1_mean)\n",
        "df['DeltaDeltaCt_HK2'] = df['DeltaCt_HK2'] - (control_target_mean - control_hk2_mean)\n",
        "\n",
        "# 相対発現量の計算\n",
        "df['RelativeExpression_HK1'] = 2 ** (-df['DeltaDeltaCt_HK1'])\n",
        "df['RelativeExpression_HK2'] = 2 ** (-df['DeltaDeltaCt_HK2'])\n",
        "\n",
        "# 中間結果を表示\n",
        "print(\"ΔCt値の計算結果:\")\n",
        "print(df[['Sample', 'DeltaCt_HK1', 'DeltaCt_HK2']])\n",
        "\n",
        "print(\"\\nΔΔCt値の計算結果:\")\n",
        "print(df[['Sample', 'DeltaDeltaCt_HK1', 'DeltaDeltaCt_HK2']])\n",
        "\n",
        "print(\"\\n相対発現量:\")\n",
        "print(df[['Sample', 'RelativeExpression_HK1', 'RelativeExpression_HK2']])\n",
        "\n",
        "print(\"コントロール群の平均Ct値:\")\n",
        "print(f\"Target mean: {control_target_mean}\")\n",
        "print(f\"HK1 mean: {control_hk1_mean}\")\n",
        "print(f\"HK2 mean: {control_hk2_mean}\")\n"
      ]
    }
  ]
}