{
  "nbformat": 4,
  "nbformat_minor": 0,
  "metadata": {
    "colab": {
      "provenance": [],
      "authorship_tag": "ABX9TyMvMQel/2ASHnvCXfg27Xry",
      "include_colab_link": true
    },
    "kernelspec": {
      "name": "python3",
      "display_name": "Python 3"
    },
    "language_info": {
      "name": "python"
    }
  },
  "cells": [
    {
      "cell_type": "markdown",
      "metadata": {
        "id": "view-in-github",
        "colab_type": "text"
      },
      "source": [
        "<a href=\"https://colab.research.google.com/github/tarumi283/tarumi/blob/main/%E3%83%AA%E3%82%AC%E3%83%B3%E3%83%89%E6%8E%A2%E7%B4%A2%E3%82%B3%E3%83%BC%E3%83%89_pubmed.ipynb\" target=\"_parent\"><img src=\"https://colab.research.google.com/assets/colab-badge.svg\" alt=\"Open In Colab\"/></a>"
      ]
    },
    {
      "cell_type": "code",
      "source": [
        "pip install biopython"
      ],
      "metadata": {
        "id": "YyzoYDHkVMjl"
      },
      "execution_count": null,
      "outputs": []
    },
    {
      "cell_type": "code",
      "execution_count": null,
      "metadata": {
        "id": "nSbED-3pVKIi"
      },
      "outputs": [],
      "source": [
        "import pandas as pd\n",
        "from Bio import Entrez\n",
        "import time\n",
        "\n",
        "# BiopythonのEntrezモジュールを初期化\n",
        "Entrez.email = \"tarumi.wataru@gmail.com\"  # あなたのメールアドレスを設定してください\n",
        "Entrez.api_key = \"d9702839c15b5365a594355c0c6974cc6207\"  # あなたのAPIキーを設定してください\n",
        "\n",
        "# エクセルファイルから遺伝子名を読み込む\n",
        "excel_file = \"GV_MⅡ_GSE75738.xls.xlsx\"  # エクセルファイルのパスを指定してください\n",
        "gene_df = pd.read_excel(excel_file)\n",
        "gene_names = gene_df.iloc[1:, 1].tolist()  # 2行目以降の遺伝子名を取得\n",
        "\n",
        "# 検索対象のキーワードを指定\n",
        "search_keywords = [\"receptor\", \"binding\", \"interaction\"]  # 検索したいキーワードを指定してください\n",
        "\n",
        "# 遺伝子情報を取得し、指定したキーワードを含む論文と遺伝子名を抽出\n",
        "matching_genes = []\n",
        "\n",
        "# リクエストの間隔を設定\n",
        "request_interval = 5  # 5秒ごとにリクエストを送信\n",
        "\n",
        "for gene_name in gene_names:\n",
        "    try:\n",
        "        # PubMedで遺伝子名を使用して論文を検索\n",
        "        search_query = f\"{gene_name} AND {' AND '.join(search_keywords)}\"\n",
        "        handle = Entrez.esearch(db=\"pubmed\", term=search_query, retmax=10)  # 検索結果の最大数を設定\n",
        "        record = Entrez.read(handle)\n",
        "        handle.close()\n",
        "\n",
        "        # 検索結果からPubMed IDを取得\n",
        "        pmids = record[\"IdList\"]\n",
        "\n",
        "        # 指定したキーワードが含まれる論文が見つかった場合、結果に追加\n",
        "        if pmids:\n",
        "            matching_genes.append((gene_name, pmids))\n",
        "    except Exception as e:\n",
        "        print(f\"エラーが発生しました: {e}\")\n",
        "\n",
        "    # リクエストの間隔を設ける\n",
        "    time.sleep(request_interval)\n",
        "\n",
        "# 検索結果をCSVファイルに保存\n",
        "if matching_genes:\n",
        "    result_df = pd.DataFrame(matching_genes, columns=[\"Gene Name\", \"PubMed IDs\"])\n",
        "    result_csv = \"matching_genes.csv\"\n",
        "    result_df.to_csv(result_csv, index=False)\n",
        "    print(f\"指定したキーワードを含む論文を持つ遺伝子は以下の通りです。結果は'{result_csv}'に保存されました:\")\n",
        "    print(result_df)\n",
        "else:\n",
        "    print(\"指定したキーワードを含む論文を持つ遺伝子は見つかりませんでした。\")"
      ]
    }
  ]
}