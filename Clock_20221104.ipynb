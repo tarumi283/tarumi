{
  "nbformat": 4,
  "nbformat_minor": 0,
  "metadata": {
    "colab": {
      "name": "Clock.ipynb",
      "provenance": [],
      "authorship_tag": "ABX9TyMQ8V3b1fUheLmBHIOY0ST9",
      "include_colab_link": true
    },
    "kernelspec": {
      "name": "python3",
      "display_name": "Python 3"
    },
    "language_info": {
      "name": "python"
    }
  },
  "cells": [
    {
      "cell_type": "markdown",
      "metadata": {
        "id": "view-in-github",
        "colab_type": "text"
      },
      "source": [
        "<a href=\"https://colab.research.google.com/github/tarumi283/tarumi/blob/main/Clock_20221104.ipynb\" target=\"_parent\"><img src=\"https://colab.research.google.com/assets/colab-badge.svg\" alt=\"Open In Colab\"/></a>"
      ]
    },
    {
      "cell_type": "code",
      "source": [
        "import numpy as np\n",
        "import matplotlib.pyplot as plt\n",
        "import matplotlib.animation as animation\n",
        "import scipy.integrate as integrate\n",
        " \n",
        "#const.\n",
        "# degradation rates for nuclear proteins and nuclear protein complexes\n",
        "    \n",
        "dx1=0.08;  # degradation rate for CLOCK/BMAL\n",
        "dx2=0.06;  # degradation rate for PER/CRYn\n",
        "dx3=0.09;  # degradation rate for PER/CRYn\n",
        "dx5=0.17;  # degradation rate for REV-ERB\n",
        "dx6=0.12;  # degradation rate for RORn\n",
        "dx7=0.15;  # degradation rate for BMALn\n",
        " \n",
        "\n",
        "   # degradation rates for mRNAs \n",
        "   \n",
        "dy1=0.3;   # degradation rate for Per\n",
        "dy2=0.2;   # degradation rate for Cry\n",
        "dy3=2;     # degradation rate for Rev-Erb\n",
        "dy4=0.2;   # degradation rate for Ror\n",
        "dy5=1.6;   # degradation rate for Bmal\n",
        "\n",
        "\n",
        "   # degradation rates for cytoplasmic proteins and cytoplasmic protein complexes \n",
        "  \n",
        "dz1=0.23;  # degradation rate for CRY \n",
        "dz2=0.25;  # degradation rate for PER \n",
        "dz3=0.6;   # degradation rate for PER*\n",
        "dz4=0.2;   # degradation rate for PER*/CRYc\n",
        "dz5=0.2;   # degradation rate for PER/CRYc\n",
        "dz6=0.31;  # degradation rate for REV-ERB\n",
        "dz7=0.3;   # degradation rate for RORc\n",
        "dz8=0.73;  # degradation rate for BMALc \n",
        "\n",
        "\n",
        "  # reaction rates for complex formation/dissociation\n",
        "  \n",
        "kfx1=2.3;  # complex formation rate for CLOCK/BMAL\n",
        "kdx1=0.01; # complex dissociation rate for CLOCK/BMAL\n",
        "\n",
        "kfz4=1;    # complex formation rate for PER*/CRY\n",
        "kfz5=1;    # complex formation rate for PER/CRY\n",
        "\n",
        "kdz5=1;    # complex dissociation rate for PER/CRY\n",
        "kdz4=1;    # complex dissociation rate for PER*/CRY\n",
        "\n",
        "\n",
        "  # phosphorylation rates \n",
        "\n",
        "kfz2=2;     # phosphorylation rate constant for PER  \n",
        "kdfz3=0.05; # dephosphorylation rate constant for PER*\n",
        "\n",
        "\n",
        "  # transcription rates\n",
        "  \n",
        "V1max=1;     # maximal rate of Per transcription\n",
        "V2max=2.92;  # maximal rate of Cry transcription\n",
        "V3max=1.90;  # maximal rate of Rev-Erb transcription\n",
        "V4max=10.90; # maximal rate of Ror transcription\n",
        "V5max=1;     # maximal rate of Bmal transcription\n",
        "\n",
        "kt1=3;    # rate constant of Per transcription\n",
        "kt2=2.4;  # rate constant of Cry transcription\n",
        "kt3=2.07; # rate constant of Rev-Erb transcription\n",
        "kt4=0.9;  # rate constant of Ror transcription\n",
        "kt5=8.35; # rate constant of Bmal transcription\n",
        "\n",
        "ki1=0.9;  # inhibition constant of Per transcription\n",
        "ki2=0.7;  # inhibition constant of Cry transcription\n",
        "ki21=5.2; # inhibition constant of Cry transcription by REV-ERB\n",
        "ki3=3.3;  # inhibition constant of Rev-Erb transcription\n",
        "ki4=0.4;  # inhibition constant of Ror transcription\n",
        "ki5=1.94; # inhibition constant of Bmal transcription\n",
        "\n",
        "\n",
        "   # translation rates\n",
        "    \n",
        "kp1=0.4;    # production rate of PER  \n",
        "kp2=0.26;  # production rate of CRY\n",
        "kp3=0.37;   # production rate of REV-ERB \n",
        "kp4=0.76;   # production rate of ROR\n",
        "kp5=1.21;   # production rate of BMAL\n",
        "\n",
        "   # import/export rates\n",
        "    \n",
        "kiz4=0.2;  # import rate of  PER*/CRY to the nucleus\n",
        "kiz5=0.1;  # import rate of  PER/CRY to the nucleus\n",
        "kiz6=0.5;  # import rate of REV-ERB to the nucleus\n",
        "kiz7=0.1;  # import rate of ROR to the nucleus\n",
        "kiz8=0.1;  # import rate of BMAL to the nucleus\n",
        "\n",
        "kex2=0.02; # export rate of  PER*/CRY to the cytoplasm\n",
        "kex3=0.01; # export rate of  PER/CRY to the cytoplasm\n",
        "\n",
        "\n",
        "   #fold activation of transcription\n",
        " \n",
        "a=12; # fold activation of Per transcription\n",
        "d=12; # fold activation of Cry transcription\n",
        "g=5;  # fold activation of Rev-Erb transcription \n",
        "h=5;  # fold activation of Ror transcription\n",
        "i=12; # fold activation of Bmal transcription\n",
        "\n",
        "\n",
        "  # Hill coefficients of transcription\n",
        "\n",
        "b=5;   # Hill coefficient of activation of Per transcription\n",
        "c=7;   # Hill coefficient of inhibition of Per transcription\n",
        "\n",
        "e=6;   # Hill coefficient of activation of Cry transcription\n",
        "f=4;   # Hill coefficient of inhibition of Cry transcription\n",
        "f1=1;  # Hill coefficient of inhibition of Cry transcription via REV\n",
        "\n",
        "v=6;   # Hill coefficient of activation of Rev-Erb  transcription\n",
        "w=2;   # Hill coefficient of inhibition of Rev-Erb  transcription\n",
        "\n",
        "p=6;   # Hill coefficient of activation of Ror transcription\n",
        "q=3;   # Hill coefficient of inhibition of Ror transcription\n",
        "\n",
        "n=2;   # Hill coefficient of activation of Bmal transcription\n",
        "m=5;   # Hill coefficient of inhibition of Bmal transcription\n",
        "\n",
        "\n",
        "a2=1; # weight factor for PER*/CRY\n",
        "a3=1; # weight factor for PER/CRY\n",
        "\n",
        "Rev0=0;  #simulating a constitutively expressed Rev-Erb with the given value\n",
        "Ror0=0;  #simulating a constitutively expressed Ror with the given value\n",
        "Bmal0=0; #simulating a constitutively expressed Bmal with the given value\n",
        "Per0=0;  #simulating a constitutively expressed Per with the given value\n",
        "Cry0=0;  #simulating a constitutively expressed Cry with the given value\n",
        "\n",
        " \n",
        "dt = 0.01\n",
        "t = np.arange(0.0, 50.0, dt) #The time to integrate over \n",
        "len_t = len(t) \n",
        "timestep = 20 #timestep\n",
        " \n",
        "X0=(1,1,1,1,1,1,1,1,1,1,1,1,1,1,1,1,1,1,1,1)"
      ],
      "metadata": {
        "id": "PxwUmemTWGaY"
      },
      "execution_count": 8,
      "outputs": []
    },
    {
      "cell_type": "code",
      "execution_count": 13,
      "metadata": {
        "id": "j1itBHZ9UldY"
      },
      "outputs": [],
      "source": [
        "#ODEs\n",
        "def dALLdt(X, t):\n",
        "\n",
        "    [x0,x1,x2,x3,x4,x5,x6,x7,x8,x9,x10,x11,x12,x13,x14,x15,x16,x17,x18] = X\n",
        "\n",
        "    d0dt = (kfx1 * x9 - kdx1 * x0 - dx1 * x0)   # CLOCK/BMAL\n",
        "    d1dt = (V3max * (1 + g * ((x0 / kt3) ** v)) / (1 + ((PC / ki3) ** w) * ((x0 / kt3) ** v) + (x0 / kt3) ** v ) - dy3 * x1)   # transcription of Rev-erb\n",
        "    d2dt = (V4max * (1 + h * ((x0 / kt4) ** p)) / (1 + ((PC / ki4) ** q) * ((x0 / kt4) ** p) + (x0 / kt4) ** p ) - dy4 * x2);   # transcription of Ror\n",
        "    d3dt = (kp3 *(x1 + Rev0) - kiz6 * x3 - dz6 * x3)   # production of REV-ERB \n",
        "    d4dt = (kp4 *(x2 + Ror0) - kiz7 * x4 - dz7 * x4)   # production of ROR\n",
        "    d5dt = (kiz6 * x3 - dx5 * x5)   # nuclear REV-ERB \n",
        "    d6dt = (kiz7 * x4 - dx6 * x6)   # nuclear ROR\n",
        "    d7dt = (V5max * (1 + i * ((x6 / kt5) ** n)) / (1 + (x5 / ki5) ** m + (x6 / kt5) ** n ) - dy5 * x7) # transcription of Bmal\n",
        "    d8dt = (kp5 * (x7 + Bmal0) - kiz8 * x8 - dz8 * x8)   # production of BMAL\n",
        "    d9dt = (kiz8 * x8 + kdx1 * x0 -  kfx1 * x9 - dx7 * x9)   # nuclear BMAL\n",
        "    d10dt = (V1max * (1 + a * ((x0 / kt1) ** b))  / (1 + ((PC / ki1) ** c) * ((x0 / kt1 ) ** b)  + (x0 / kt1 ) ** b) - dy1 * x10) # transcription of Per\n",
        "    d11dt = ((V2max * (1 + d * ((x0 / kt2) ** e))  / (1 + ((PC / ki2) ** f)*((x0 / kt2 ) ** e)  + (x0 / kt2 ) ** e)) * (1 / (1 + (x5 / ki21) ** f1)) - dy2 * x11) # transcription of Cry\n",
        "    d12dt = (kp2 * (x11 + Cry0)  + kdz4 * x15 + kdz5 * x16 - kfz5 * x12 * x13 - kfz4 * x12 * x14 - dz1 * x12) # production of CRY \n",
        "    d13dt = (kp1 * (x10 + Per0)  + kdz5 * x16  + kdfz3 * x14 - kfz5 * x13 * x12 - kfz2 * x13 - dz2 * x13) # production of PER \n",
        "    d14dt = (kfz2 * x13 + kdz4 * x15 - kdfz3 * x14 - kfz4 * x14 * x12  - dz3 * x14) # phosphorylation of PER \n",
        "    d15dt = (kfz4 * x12 * x14 + kex2 * x17 - kiz4 * x15 - kdz4 * x15 - dz4 * x15)  # complex formation-PER*/CRY -cytoplasm\n",
        "    d16dt = (kfz5 * x12 * x13 + kex3 * x18 - kiz5 * x16 - kdz5 * x16 - dz5 * x16) # complex formation-PER/CRY -cytoplasm\n",
        "    d17dt = (kiz4 * x15 - kex2 * x17 - dx2 * x17) # nuclear complex-PER*/CRY \n",
        "    d18dt = (kiz5 * x16 - kex3 * x18 - dx3 * x18) # nuclear complex-PER/CRY \n",
        "    \n",
        "    def dPCdt(Y, t):\n",
        "\n",
        "      PC = a2 * x17 + a3 * x18 # pool of nuclear complexes PER/CRY\n",
        "\n",
        "      return PC\n",
        "\n",
        "    return d0dt,d1dt,d2dt, d3dt,d4dt, d5dt, d6dt, d7dt,d8dt, d9dt, d10dt, d11dt,d12dt, d13dt, d14dt, d15dt,d16dt, d17dt, d18dt\n",
        "\n",
        "   \n",
        "     \n",
        "    \n",
        "\n",
        "\n",
        "\n",
        "\n",
        "\n",
        "\n",
        " "
      ]
    },
    {
      "cell_type": "code",
      "source": [
        "#微分方程式を解く\n",
        "X = integrate.odeint(dALLdt, X0, t)\n",
        "     \n",
        "x0 = X[:,0]\n",
        "x1 = X[:,1]\n",
        "x2 = X[:,2]\n",
        "x3 = X[:,3]\n",
        "x4 = X[:,4]\n",
        "x5 = X[:,5]\n",
        "x6 = X[:,6]\n",
        "x7 = X[:,7]\n",
        "x8 = X[:,8]\n",
        "x9 = X[:,9]\n",
        "x10 = X[:,10]\n",
        "x11 = X[:,11]\n",
        "x12 = X[:,12]\n",
        "x13 = X[:,13]\n",
        "x14 = X[:,14]\n",
        "x15 = X[:,15]\n",
        "x16 = X[:,16]\n",
        "x17 = X[:,17]\n",
        "x18 = X[:,18]\n",
        "PC = Y[:,0]"
      ],
      "metadata": {
        "id": "ZwAo3EMzZa8Q",
        "outputId": "2048ff0b-2800-47ac-8d5b-7aa7943eb916",
        "colab": {
          "base_uri": "https://localhost:8080/",
          "height": 205
        }
      },
      "execution_count": 14,
      "outputs": [
        {
          "output_type": "error",
          "ename": "NameError",
          "evalue": "ignored",
          "traceback": [
            "\u001b[0;31m---------------------------------------------------------------------------\u001b[0m",
            "\u001b[0;31mNameError\u001b[0m                                 Traceback (most recent call last)",
            "\u001b[0;32m<ipython-input-14-58d57cde15ea>\u001b[0m in \u001b[0;36m<module>\u001b[0;34m\u001b[0m\n\u001b[1;32m     21\u001b[0m \u001b[0mx17\u001b[0m \u001b[0;34m=\u001b[0m \u001b[0mX\u001b[0m\u001b[0;34m[\u001b[0m\u001b[0;34m:\u001b[0m\u001b[0;34m,\u001b[0m\u001b[0;36m17\u001b[0m\u001b[0;34m]\u001b[0m\u001b[0;34m\u001b[0m\u001b[0;34m\u001b[0m\u001b[0m\n\u001b[1;32m     22\u001b[0m \u001b[0mx18\u001b[0m \u001b[0;34m=\u001b[0m \u001b[0mX\u001b[0m\u001b[0;34m[\u001b[0m\u001b[0;34m:\u001b[0m\u001b[0;34m,\u001b[0m\u001b[0;36m18\u001b[0m\u001b[0;34m]\u001b[0m\u001b[0;34m\u001b[0m\u001b[0;34m\u001b[0m\u001b[0m\n\u001b[0;32m---> 23\u001b[0;31m \u001b[0mPC\u001b[0m \u001b[0;34m=\u001b[0m \u001b[0mY\u001b[0m\u001b[0;34m[\u001b[0m\u001b[0;34m:\u001b[0m\u001b[0;34m,\u001b[0m\u001b[0;36m0\u001b[0m\u001b[0;34m]\u001b[0m\u001b[0;34m\u001b[0m\u001b[0;34m\u001b[0m\u001b[0m\n\u001b[0m",
            "\u001b[0;31mNameError\u001b[0m: name 'Y' is not defined"
          ]
        }
      ]
    },
    {
      "cell_type": "code",
      "source": [
        "plt.plot(t,x9)\n",
        "plt.legend(loc='best')\n",
        "plt.xlabel('t')\n",
        "plt.grid()\n",
        "print(x1)\n",
        "plt.show() #表示"
      ],
      "metadata": {
        "id": "Ay4m69-XZmS2",
        "outputId": "a6d6f88d-81f0-4646-9746-76153a112245",
        "colab": {
          "base_uri": "https://localhost:8080/",
          "height": 314
        }
      },
      "execution_count": null,
      "outputs": [
        {
          "output_type": "stream",
          "name": "stderr",
          "text": [
            "WARNING:matplotlib.legend:No handles with labels found to put in legend.\n"
          ]
        },
        {
          "output_type": "stream",
          "name": "stdout",
          "text": [
            "[3.         3.06546973 3.12930608 ... 1.18831976 1.18821793 1.18811619]\n"
          ]
        },
        {
          "output_type": "display_data",
          "data": {
            "text/plain": [
              "<Figure size 432x288 with 1 Axes>"
            ],
            "image/png": "[encoded data removed]"
          },
          "metadata": {
            "needs_background": "light"
          }
        }
      ]
    }
  ]
}