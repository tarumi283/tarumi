{
  "nbformat": 4,
  "nbformat_minor": 0,
  "metadata": {
    "colab": {
      "provenance": [],
      "authorship_tag": "ABX9TyMF7HisUE8mb3IFshk8OggS",
      "include_colab_link": true
    },
    "kernelspec": {
      "name": "python3",
      "display_name": "Python 3"
    },
    "language_info": {
      "name": "python"
    }
  },
  "cells": [
    {
      "cell_type": "markdown",
      "metadata": {
        "id": "view-in-github",
        "colab_type": "text"
      },
      "source": [
        "<a href=\"https://colab.research.google.com/github/tarumi283/tarumi/blob/main/%E7%B9%B0%E3%82%8A%E8%BF%94%E3%81%97%E6%B8%AC%E5%AE%9A%E3%81%8C%E5%90%AB%E3%81%BE%E3%82%8C%E3%82%8B%E4%BA%8C%E5%85%83%E9%85%8D%E7%BD%AE%E5%88%86%E6%95%A3%E5%88%86%E6%9E%90%EF%BC%88mixed_design_ANOVA%EF%BC%89_.ipynb\" target=\"_parent\"><img src=\"https://colab.research.google.com/assets/colab-badge.svg\" alt=\"Open In Colab\"/></a>"
      ]
    },
    {
      "cell_type": "code",
      "execution_count": null,
      "metadata": {
        "id": "3nX7Mg1f9JJF"
      },
      "outputs": [],
      "source": [
        "import pandas as pd\n",
        "import statsmodels.api as sm\n",
        "from statsmodels.formula.api import ols\n",
        "from statsmodels.stats.anova import AnovaRM\n",
        "from statsmodels.stats.multicomp import MultiComparison\n",
        "\n",
        "# CSVファイルからデータを読み込む（データは自分の環境に合わせて準備）\n",
        "csv_file_path = '/path/to/your/data.csv'  # 適切なCSVファイルパスに置き換える\n",
        "data = pd.read_csv(csv_file_path)\n",
        "\n",
        "# データの確認\n",
        "print(\"データの先頭部分:\\n\", data.head())\n",
        "\n",
        "# 'subject' 列: 被験者を示すID\n",
        "# 'factorA' 列: 被験者内要因（繰り返しあり）\n",
        "# 'factorB' 列: 被験者間要因\n",
        "# 'value' 列: 測定値\n",
        "\n",
        "# 被験者内要因を扱うためにAnovaRMを使用\n",
        "anova_rm = AnovaRM(data, depvar='value', subject='subject', within=['factorA'], between=['factorB'], aggregate_func=None)\n",
        "anova_results = anova_rm.fit()\n",
        "\n",
        "# 分散分析結果の表示\n",
        "print(\"\\n被験者内要因と被験者間要因を含む二元配置分散分析の結果:\\n\", anova_results)\n",
        "\n",
        "# 被験者間要因に対するANOVAの実行\n",
        "model = ols('value ~ C(factorB)', data=data).fit()\n",
        "anova_table = sm.stats.anova_lm(model, typ=2)\n",
        "\n",
        "# 被験者間要因のANOVA結果を表示\n",
        "print(\"\\n被験者間要因に対するANOVAの結果:\\n\", anova_table)\n",
        "\n",
        "# 被験者内要因に対する事後検定（Tukey HSD）\n",
        "mc_A = MultiComparison(data['value'], data['factorA'])\n",
        "result_A = mc_A.tukeyhsd()\n",
        "print(\"\\nTukey HSDの結果 (被験者内要因 factorA の比較):\")\n",
        "print(result_A)\n",
        "print(result_A.summary())\n",
        "\n",
        "# 被験者間要因に対する事後検定（Tukey HSD）\n",
        "mc_B = MultiComparison(data['value'], data['factorB'])\n",
        "result_B = mc_B.tukeyhsd()\n",
        "print(\"\\nTukey HSDの結果 (被験者間要因 factorB の比較):\")\n",
        "print(result_B)\n",
        "print(result_B.summary())\n",
        "\n",
        "# 被験者内要因と被験者間要因の交互作用の事後検定\n",
        "# 交互作用効果のための新しい列を作成\n",
        "data['interaction'] = data['factorA'].astype(str) + ':' + data['factorB'].astype(str)\n",
        "mc_interaction = MultiComparison(data['value'], data['interaction'])\n",
        "result_interaction = mc_interaction.tukeyhsd()\n",
        "print(\"\\nTukey HSDの結果 (交互作用効果の比較):\")\n",
        "print(result_interaction)\n",
        "print(result_interaction.summary())"
      ]
    }
  ]
}