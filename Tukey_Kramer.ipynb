{
  "nbformat": 4,
  "nbformat_minor": 0,
  "metadata": {
    "colab": {
      "provenance": [],
      "authorship_tag": "ABX9TyN38erkuFEhkuIvueLNuPN9",
      "include_colab_link": true
    },
    "kernelspec": {
      "name": "python3",
      "display_name": "Python 3"
    },
    "language_info": {
      "name": "python"
    }
  },
  "cells": [
    {
      "cell_type": "markdown",
      "metadata": {
        "id": "view-in-github",
        "colab_type": "text"
      },
      "source": [
        "<a href=\"https://colab.research.google.com/github/tarumi283/tarumi/blob/main/Tukey_Kramer.ipynb\" target=\"_parent\"><img src=\"https://colab.research.google.com/assets/colab-badge.svg\" alt=\"Open In Colab\"/></a>"
      ]
    },
    {
      "cell_type": "code",
      "source": [
        "pip install pandas statsmodels"
      ],
      "metadata": {
        "id": "nJN28fT0BUWR"
      },
      "execution_count": null,
      "outputs": []
    },
    {
      "cell_type": "code",
      "source": [
        "import pandas as pd\n",
        "import statsmodels.api as sm\n",
        "from statsmodels.formula.api import ols\n",
        "from statsmodels.stats.multicomp import pairwise_tukeyhsd\n",
        "\n",
        "# CSVファイルのパス\n",
        "csv_file_path = 'path_to_your_file.csv'\n",
        "\n",
        "# CSVファイルの読み込み\n",
        "data = pd.read_csv(csv_file_path)\n",
        "\n",
        "# データの確認\n",
        "print(\"データの先頭部分:\\n\", data.head())\n",
        "\n",
        "# グループ列と値列の名前を適切に設定してください\n",
        "group_column = 'group'  # グループを示す列名\n",
        "value_column = 'value'  # 値を示す列名\n",
        "\n",
        "# ANOVAの実行\n",
        "model = ols(f'{value_column} ~ {group_column}', data=data).fit()\n",
        "anova_table = sm.stats.anova_lm(model, typ=2)\n",
        "print(\"\\nANOVAの結果:\\n\", anova_table)\n",
        "\n",
        "# Tukey-Kramer HSDの実行\n",
        "tukey_result = pairwise_tukeyhsd(data[value_column], data[group_column], alpha=0.05)\n",
        "\n",
        "# 結果の詳細表示\n",
        "print(\"\\nTukey-Kramer HSDの結果:\")\n",
        "print(tukey_result)\n",
        "\n",
        "# 結果の表形式表示\n",
        "print(\"\\nTukey-Kramer HSDの結果 (詳細表):\")\n",
        "print(tukey_result.summary())\n",
        "\n",
        "# 各比較の詳細表示\n",
        "print(\"\\n各比較の詳細:\")\n",
        "for result in tukey_result._results_table.data[1:]:\n",
        "    print(result)"
      ],
      "metadata": {
        "id": "7Kl9vxM5BaYS"
      },
      "execution_count": null,
      "outputs": []
    }
  ]
}