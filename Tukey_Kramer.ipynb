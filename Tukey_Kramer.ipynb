{
  "nbformat": 4,
  "nbformat_minor": 0,
  "metadata": {
    "colab": {
      "provenance": [],
      "authorship_tag": "ABX9TyPpQ1JZkOjAEH29qHxWz0/Q",
      "include_colab_link": true
    },
    "kernelspec": {
      "name": "python3",
      "display_name": "Python 3"
    },
    "language_info": {
      "name": "python"
    }
  },
  "cells": [
    {
      "cell_type": "markdown",
      "metadata": {
        "id": "view-in-github",
        "colab_type": "text"
      },
      "source": [
        "<a href=\"https://colab.research.google.com/github/tarumi283/tarumi/blob/main/Tukey_Kramer.ipynb\" target=\"_parent\"><img src=\"https://colab.research.google.com/assets/colab-badge.svg\" alt=\"Open In Colab\"/></a>"
      ]
    },
    {
      "cell_type": "code",
      "execution_count": null,
      "metadata": {
        "id": "FVjpaDvwklIF"
      },
      "outputs": [],
      "source": [
        "import numpy as np\n",
        "import pandas as pd\n",
        "import statsmodels.api as sm\n",
        "from statsmodels.formula.api import ols\n",
        "from statsmodels.stats.multicomp import pairwise_tukeyhsd\n",
        "\n",
        "# サンプルデータ\n",
        "data = pd.DataFrame({\n",
        "    'value': np.random.randn(48),\n",
        "    'group': np.repeat(['A', 'B', 'C', 'D'], 12)\n",
        "})\n",
        "\n",
        "# ANOVAの実行\n",
        "model = ols('value ~ group', data=data).fit()\n",
        "anova_table = sm.stats.anova_lm(model, typ=2)\n",
        "\n",
        "# Tukey-Kramer HSDの実行\n",
        "tukey_result = pairwise_tukeyhsd(data['value'], data['group'], alpha=0.05)\n",
        "\n",
        "# 結果の表示\n",
        "print(tukey_result)"
      ]
    }
  ]
}