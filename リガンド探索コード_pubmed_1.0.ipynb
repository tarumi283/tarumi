{
  "nbformat": 4,
  "nbformat_minor": 0,
  "metadata": {
    "colab": {
      "provenance": [],
      "authorship_tag": "ABX9TyP/yF+yrdSTOPkE89ZBvSIE",
      "include_colab_link": true
    },
    "kernelspec": {
      "name": "python3",
      "display_name": "Python 3"
    },
    "language_info": {
      "name": "python"
    }
  },
  "cells": [
    {
      "cell_type": "markdown",
      "metadata": {
        "id": "view-in-github",
        "colab_type": "text"
      },
      "source": [
        "<a href=\"https://colab.research.google.com/github/tarumi283/tarumi/blob/main/%E3%83%AA%E3%82%AC%E3%83%B3%E3%83%89%E6%8E%A2%E7%B4%A2%E3%82%B3%E3%83%BC%E3%83%89_pubmed_1.0.ipynb\" target=\"_parent\"><img src=\"https://colab.research.google.com/assets/colab-badge.svg\" alt=\"Open In Colab\"/></a>"
      ]
    },
    {
      "cell_type": "code",
      "source": [
        "pip install biopython"
      ],
      "metadata": {
        "id": "YyzoYDHkVMjl",
        "outputId": "b642c48c-3023-4654-9f38-13bf9ec69823",
        "colab": {
          "base_uri": "https://localhost:8080/"
        }
      },
      "execution_count": 5,
      "outputs": [
        {
          "output_type": "stream",
          "name": "stdout",
          "text": [
            "Requirement already satisfied: biopython in /usr/local/lib/python3.10/dist-packages (1.81)\n",
            "Requirement already satisfied: numpy in /usr/local/lib/python3.10/dist-packages (from biopython) (1.23.5)\n"
          ]
        }
      ]
    },
    {
      "cell_type": "code",
      "execution_count": 7,
      "metadata": {
        "id": "nSbED-3pVKIi",
        "outputId": "cbc5fe60-2fbe-4f74-b05d-bea8dd3a6cb0",
        "colab": {
          "base_uri": "https://localhost:8080/"
        }
      },
      "outputs": [
        {
          "output_type": "stream",
          "name": "stdout",
          "text": [
            "指定したキーワードを含む論文を持つ遺伝子は見つかりませんでした。\n"
          ]
        }
      ],
      "source": [
        "import pandas as pd\n",
        "from Bio import Entrez\n",
        "import time\n",
        "import re\n",
        "\n",
        "# BiopythonのEntrezモジュールを初期化\n",
        "Entrez.email = \"tarumi.wataru@gmail.com\"  # あなたのメールアドレスを設定してください\n",
        "Entrez.api_key = \"d9702839c15b5365a594355c0c6974cc6207\"  # あなたのAPIキーを設定してください\n",
        "\n",
        "# エクセルファイルから遺伝子名を読み込む\n",
        "excel_file = \"/content/oocyte_sperm.xlsx\"  # エクセルファイルのパスを指定してください\n",
        "gene_df = pd.read_excel(excel_file, header=None)\n",
        "ligand_gene_name = gene_df.iloc[0, 1]  # 一行目のリガンド情報から遺伝子名を取得\n",
        "receptor_gene_name = gene_df.iloc[1, 1]  # 二行目の受容体情報から遺伝子名を取得\n",
        "\n",
        "# 遺伝子名を正規表現パターンに変換\n",
        "ligand_gene_pattern = re.compile(rf'\\b{re.escape(ligand_gene_name)}\\b', re.IGNORECASE)\n",
        "receptor_gene_pattern = re.compile(rf'\\b{re.escape(receptor_gene_name)}\\b', re.IGNORECASE)\n",
        "\n",
        "# 検索対象のキーワードを指定\n",
        "search_keywords = [ligand_gene_name, receptor_gene_name]  # リガンドと受容体情報、およびキーワードを指定\n",
        "\n",
        "# 遺伝子情報を取得し、指定したキーワードを含む論文の要約を検索\n",
        "matching_genes = []\n",
        "\n",
        "# リクエストの間隔を設定\n",
        "request_interval = 5  # 5秒ごとにリクエストを送信\n",
        "\n",
        "for gene_name in [ligand_gene_name, receptor_gene_name]:\n",
        "    try:\n",
        "        # PubMedで遺伝子名を使用して論文を検索\n",
        "        search_query = f\"{gene_name} AND {' AND '.join(search_keywords)}\"\n",
        "        handle = Entrez.esearch(db=\"pubmed\", term=search_query, retmax=10)  # 検索結果の最大数を設定\n",
        "        record = Entrez.read(handle)\n",
        "        handle.close()\n",
        "\n",
        "        # 検索結果からPubMed IDを取得\n",
        "        pmids = record[\"IdList\"]\n",
        "\n",
        "        # PubMed IDを使用して論文の要約を取得し、遺伝子名が含まれるか確認\n",
        "        for pmid in pmids:\n",
        "            summary_handle = Entrez.esummary(db=\"pubmed\", id=pmid)\n",
        "            summary_record = Entrez.read(summary_handle)\n",
        "            summary_handle.close()\n",
        "            article_summary = summary_record[0].get(\"Title\", \"\") + \" \" + summary_record[0].get(\"Abstract\", \"\")\n",
        "\n",
        "            # 要約に遺伝子名が含まれるか確認\n",
        "            if ligand_gene_pattern.search(article_summary) or receptor_gene_pattern.search(article_summary):\n",
        "                matching_genes.append((gene_name, pmid))\n",
        "\n",
        "    except Exception as e:\n",
        "        print(f\"エラーが発生しました: {e}\")\n",
        "\n",
        "    # リクエストの間隔を設ける\n",
        "    time.sleep(request_interval)\n",
        "\n",
        "# 検索結果をCSVファイルに保存\n",
        "if matching_genes:\n",
        "    result_df = pd.DataFrame(matching_genes, columns=[\"Gene Name\", \"PubMed IDs\"])\n",
        "    result_csv = \"matching_genes.csv\"\n",
        "    result_df.to_csv(result_csv, index=False)\n",
        "    print(f\"指定したキーワードを含む論文を持つ遺伝子は以下の通りです。結果は'{result_csv}'に保存されました:\")\n",
        "    print(result_df)\n",
        "else:\n",
        "    print(\"指定したキーワードを含む論文を持つ遺伝子は見つかりませんでした。\")"
      ]
    }
  ]
}