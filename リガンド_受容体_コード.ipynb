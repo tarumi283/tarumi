{
  "nbformat": 4,
  "nbformat_minor": 0,
  "metadata": {
    "colab": {
      "provenance": [],
      "authorship_tag": "ABX9TyPzHdDvh1PKAq3cDEjZDfbF",
      "include_colab_link": true
    },
    "kernelspec": {
      "name": "python3",
      "display_name": "Python 3"
    },
    "language_info": {
      "name": "python"
    }
  },
  "cells": [
    {
      "cell_type": "markdown",
      "metadata": {
        "id": "view-in-github",
        "colab_type": "text"
      },
      "source": [
        "<a href=\"https://colab.research.google.com/github/tarumi283/tarumi/blob/main/%E3%83%AA%E3%82%AC%E3%83%B3%E3%83%89_%E5%8F%97%E5%AE%B9%E4%BD%93_%E3%82%B3%E3%83%BC%E3%83%89.ipynb\" target=\"_parent\"><img src=\"https://colab.research.google.com/assets/colab-badge.svg\" alt=\"Open In Colab\"/></a>"
      ]
    },
    {
      "cell_type": "code",
      "execution_count": null,
      "metadata": {
        "id": "O7EzeSc8hmxh"
      },
      "outputs": [],
      "source": [
        "import pandas as pd\n",
        "import pubchempy as pcp\n",
        "\n",
        "# エクセルファイルのパスを指定\n",
        "excel_file = \"リガンド情報.xlsx\"\n",
        "\n",
        "# エクセルファイルを読み込む\n",
        "df = pd.read_excel(excel_file)\n",
        "\n",
        "# リガンド情報を含む2列目のデータを取得\n",
        "ligand_names = df.iloc[:, 1]\n",
        "\n",
        "# リガンドごとに情報を取得\n",
        "for ligand_name in ligand_names:\n",
        "    # PubChemでリガンドを検索\n",
        "    results = pcp.get_compounds(ligand_name, 'name')\n",
        "\n",
        "    # 結果を取得し、最初の化合物を選択\n",
        "    if results:\n",
        "        compound = results[0]\n",
        "        compound_cid = compound.cid\n",
        "\n",
        "        # リガンドの詳細情報を表示\n",
        "        print(f\"リガンド名: {compound.iupac_name}\")\n",
        "        print(f\"CID: {compound_cid}\")\n",
        "\n",
        "        # リガンドに関連する受容体情報を取得\n",
        "        records = pcp.get_substances(f\"CompoundID:{compound_cid}\")\n",
        "\n",
        "        for record in records:\n",
        "            if 'ProteinName' in record.to_dict():\n",
        "                protein_name = record.to_dict()['ProteinName']\n",
        "                print(f\"関連する受容体: {protein_name}\")\n",
        "    else:\n",
        "        print(f\"リガンド '{ligand_name}' が見つかりませんでした。\")"
      ]
    }
  ]
}