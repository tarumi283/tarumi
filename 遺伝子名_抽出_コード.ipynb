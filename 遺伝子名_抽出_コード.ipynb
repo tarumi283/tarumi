{
  "nbformat": 4,
  "nbformat_minor": 0,
  "metadata": {
    "colab": {
      "provenance": [],
      "authorship_tag": "ABX9TyOJu+jYuvgOruYeD7mglCRq",
      "include_colab_link": true
    },
    "kernelspec": {
      "name": "python3",
      "display_name": "Python 3"
    },
    "language_info": {
      "name": "python"
    }
  },
  "cells": [
    {
      "cell_type": "markdown",
      "metadata": {
        "id": "view-in-github",
        "colab_type": "text"
      },
      "source": [
        "<a href=\"https://colab.research.google.com/github/tarumi283/tarumi/blob/main/%E9%81%BA%E4%BC%9D%E5%AD%90%E5%90%8D_%E6%8A%BD%E5%87%BA_%E3%82%B3%E3%83%BC%E3%83%89.ipynb\" target=\"_parent\"><img src=\"https://colab.research.google.com/assets/colab-badge.svg\" alt=\"Open In Colab\"/></a>"
      ]
    },
    {
      "cell_type": "code",
      "execution_count": 5,
      "metadata": {
        "id": "sWY0ylYGYe87"
      },
      "outputs": [],
      "source": [
        "import pandas as pd\n",
        "import re\n",
        "\n",
        "# Excelファイルを読み込む\n",
        "excel_file = '/content/matching_genes.xlsx'  # ファイルパスを指定してください\n",
        "df = pd.read_excel(excel_file)\n",
        "\n",
        "# 2列目のデータ列を自動的に取得\n",
        "col_index = 1  # 2列目の場合、0から数えて1です\n",
        "column_name = df.columns[col_index]\n",
        "\n",
        "# 遺伝子名を抽出するための関数\n",
        "def extract_gene_name(row):\n",
        "    match = re.search(r\"'Gene-ref_locus': '([^']+)'\", row)\n",
        "    if match:\n",
        "        return match.group(1)\n",
        "    return None\n",
        "\n",
        "# Gene Name列を作成し、遺伝子名を抽出\n",
        "df['Gene Name'] = df[column_name].apply(extract_gene_name)\n",
        "\n",
        "# CSVファイルに出力\n",
        "output_csv_file = '/content/output_genes.csv'  # 出力ファイルのパスを指定してください\n",
        "df.to_csv(output_csv_file, index=False)"
      ]
    },
    {
      "cell_type": "code",
      "source": [],
      "metadata": {
        "id": "VQh9d8S_eoq7"
      },
      "execution_count": null,
      "outputs": []
    },
    {
      "cell_type": "code",
      "source": [],
      "metadata": {
        "id": "wEll7DnCenuv"
      },
      "execution_count": null,
      "outputs": []
    }
  ]
}