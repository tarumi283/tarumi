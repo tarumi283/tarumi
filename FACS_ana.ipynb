{
  "nbformat": 4,
  "nbformat_minor": 0,
  "metadata": {
    "colab": {
      "provenance": [],
      "authorship_tag": "ABX9TyPCKPizmNGqHu/AGD7czqwQ",
      "include_colab_link": true
    },
    "kernelspec": {
      "name": "python3",
      "display_name": "Python 3"
    },
    "language_info": {
      "name": "python"
    }
  },
  "cells": [
    {
      "cell_type": "markdown",
      "metadata": {
        "id": "view-in-github",
        "colab_type": "text"
      },
      "source": [
        "<a href=\"https://colab.research.google.com/github/tarumi283/tarumi/blob/main/FACS_ana.ipynb\" target=\"_parent\"><img src=\"https://colab.research.google.com/assets/colab-badge.svg\" alt=\"Open In Colab\"/></a>"
      ]
    },
    {
      "cell_type": "code",
      "execution_count": 4,
      "metadata": {
        "colab": {
          "base_uri": "https://localhost:8080/"
        },
        "id": "nlJBBtNH3EIg",
        "outputId": "7c1f6ec9-d0ea-49d0-dfdb-f6656a293b65"
      },
      "outputs": [
        {
          "output_type": "stream",
          "name": "stdout",
          "text": [
            "                                                  Name  #Cells\n",
            "5    Specimen_001_S+A_nega_024.fcs/TIG3/Q1: FSC-A- ...    13.0\n",
            "21   Specimen_001_S+A_1_019.fcs/TIG3/Q1: FSC-A- , F...  1166.0\n",
            "37   Specimen_001_S+A_2_020.fcs/TIG3/Q1: FSC-A- , F...  1207.0\n",
            "53   Specimen_001_S+A_3_021.fcs/TIG3/Q1: FSC-A- , F...  1385.0\n",
            "69   Specimen_001_S+A_4_022.fcs/TIG3/Q1: FSC-A- , F...  1326.0\n",
            "85   Specimen_001_S+A_5_023.fcs/TIG3/Q1: FSC-A- , F...  1140.0\n",
            "101  Specimen_001_S_nega_018.fcs/TIG3/Q1: FSC-A- , ...    43.0\n",
            "117  Specimen_001_S_1_013.fcs/TIG3/Q1: FSC-A- , FIT...   853.0\n",
            "133  Specimen_001_S_2_014.fcs/TIG3/Q1: FSC-A- , FIT...   822.0\n",
            "149  Specimen_001_S_3_015.fcs/TIG3/Q1: FSC-A- , FIT...  1080.0\n",
            "165  Specimen_001_S_4_016.fcs/TIG3/Q1: FSC-A- , FIT...   934.0\n",
            "181  Specimen_001_S_5_017.fcs/TIG3/Q1: FSC-A- , FIT...   768.0\n",
            "197  Specimen_001_Y+A_nega_012.fcs/TIG3/Q1: FSC-A- ...     5.0\n",
            "213  Specimen_001_Y+A_1_007.fcs/TIG3/Q1: FSC-A- , F...    84.0\n",
            "229  Specimen_001_Y+A_2_008.fcs/TIG3/Q1: FSC-A- , F...    92.0\n",
            "245  Specimen_001_Y+A_3_009.fcs/TIG3/Q1: FSC-A- , F...   121.0\n",
            "261  Specimen_001_Y+A_4_010.fcs/TIG3/Q1: FSC-A- , F...   104.0\n",
            "277  Specimen_001_Y+A_5_011.fcs/TIG3/Q1: FSC-A- , F...    84.0\n",
            "293  Specimen_001_Y_nega_006.fcs/TIG3/Q1: FSC-A- , ...     4.0\n",
            "310  Specimen_001_Y_1_001.fcs/TIG3/Q1: FSC-A- , FIT...   109.0\n",
            "326  Specimen_001_Y_2_002.fcs/TIG3/Q1: FSC-A- , FIT...   118.0\n",
            "342  Specimen_001_Y_3_003.fcs/TIG3/Q1: FSC-A- , FIT...   119.0\n",
            "358  Specimen_001_Y_4_004.fcs/TIG3/Q1: FSC-A- , FIT...   130.0\n",
            "374  Specimen_001_Y_5_005.fcs/TIG3/Q1: FSC-A- , FIT...   137.0\n",
            "抽出したデータがCSVファイル /content/filtered_cells.csv に書き出されました。\n"
          ]
        }
      ],
      "source": [
        "import pandas as pd\n",
        "\n",
        "def extract_cells_based_on_keywords(dataframe, word1, word2, exclude_word):\n",
        "    # 指定された2つの単語が「Name」列に含まれる行をフィルタリング\n",
        "    filtered_data = dataframe[dataframe['Name'].str.contains(word1) & dataframe['Name'].str.contains(word2, na=False)]\n",
        "\n",
        "    # 除外ワードを含む行を削除\n",
        "    filtered_data = filtered_data[~filtered_data['Name'].str.contains(exclude_word, na=False)]\n",
        "\n",
        "    # 「Name」と「#Cells」列を抽出\n",
        "    result = filtered_data[['Name', '#Cells']]\n",
        "    return result\n",
        "\n",
        "# データの読み込み\n",
        "csv_file_path = '/content/26-Sep-2024.csv'\n",
        "data_csv = pd.read_csv(csv_file_path)\n",
        "\n",
        "# 抽出に使うキーワードを指定\n",
        "word1 = 'Q1'  # 例: 1つ目のキーワード\n",
        "word2 = ''  # 例: 2つ目のキーワード\n",
        "exclude_word = 'nega'  # 除外したい単語\n",
        "exclude_word = 'TIG3-1'  # 除外したい単語\n",
        "\n",
        "\n",
        "# 関数を使用して該当するデータを抽出\n",
        "filtered_cells = extract_cells_based_on_keywords(data_csv, word1, word2, exclude_word)\n",
        "\n",
        "# 抽出した結果をCSVファイルに書き出す\n",
        "output_file_path = '/content/filtered_cells.csv'\n",
        "filtered_cells.to_csv(output_file_path, index=False)\n",
        "\n",
        "# 抽出した結果を表示\n",
        "print(filtered_cells)\n",
        "\n",
        "print(f\"抽出したデータがCSVファイル {output_file_path} に書き出されました。\")"
      ]
    }
  ]
}