{
  "nbformat": 4,
  "nbformat_minor": 0,
  "metadata": {
    "colab": {
      "provenance": [],
      "authorship_tag": "ABX9TyNIcGgg34IGk4wia4LCAE0C",
      "include_colab_link": true
    },
    "kernelspec": {
      "name": "python3",
      "display_name": "Python 3"
    },
    "language_info": {
      "name": "python"
    }
  },
  "cells": [
    {
      "cell_type": "markdown",
      "metadata": {
        "id": "view-in-github",
        "colab_type": "text"
      },
      "source": [
        "<a href=\"https://colab.research.google.com/github/tarumi283/tarumi/blob/main/FACS_ana.ipynb\" target=\"_parent\"><img src=\"https://colab.research.google.com/assets/colab-badge.svg\" alt=\"Open In Colab\"/></a>"
      ]
    },
    {
      "cell_type": "code",
      "execution_count": 18,
      "metadata": {
        "colab": {
          "base_uri": "https://localhost:8080/"
        },
        "id": "nlJBBtNH3EIg",
        "outputId": "615f7c6a-88a0-4976-eedb-7ca95cc84872"
      },
      "outputs": [
        {
          "output_type": "stream",
          "name": "stdout",
          "text": [
            "                                                  Name  #Cells  Statistic\n",
            "11   Specimen_001_S+A_1_016.fcs/TIG3-2/Q4: FSC-A- ,...  2247.0       74.8\n",
            "23   Specimen_001_S+A_2_017.fcs/TIG3-2/Q4: FSC-A- ,...  1581.0       75.6\n",
            "35   Specimen_001_S+A_3_018.fcs/TIG3-2/Q4: FSC-A- ,...  1401.0       72.7\n",
            "50   Specimen_001_S+A_4_019.fcs/TIG3-2/Q4: FSC-A- ,...  1494.0       75.9\n",
            "62   Specimen_001_S+A_5_020.fcs/TIG3-2/Q4: FSC-A- ,...  1284.0       76.4\n",
            "74   Specimen_001_S_1_011.fcs/TIG3-2/Q4: FSC-A- , F...  1438.0       72.9\n",
            "86   Specimen_001_S_2_012.fcs/TIG3-2/Q4: FSC-A- , F...  1093.0       71.4\n",
            "98   Specimen_001_S_3_013.fcs/TIG3-2/Q4: FSC-A- , F...   837.0       68.4\n",
            "110  Specimen_001_S_4_014.fcs/TIG3-2/Q4: FSC-A- , F...   681.0       72.8\n",
            "122  Specimen_001_S_5_015.fcs/TIG3-2/Q4: FSC-A- , F...   837.0       76.4\n",
            "134  Specimen_001_Y+A_nega_010.fcs/TIG3-2/Q4: FSC-A...  4772.0       96.0\n",
            "146  Specimen_001_Y+A_1_006.fcs/TIG3-2/Q4: FSC-A- ,...  4693.0       94.2\n",
            "158  Specimen_001_Y+A_2_007.fcs/TIG3-2/Q4: FSC-A- ,...  4699.0       94.1\n",
            "170  Specimen_001_Y+A_3_008.fcs/TIG3-2/Q4: FSC-A- ,...  4705.0       94.0\n",
            "182  Specimen_001_Y+A_4_009.fcs/TIG3-2/Q4: FSC-A- ,...  4673.0       93.5\n",
            "194  Specimen_001_Y_nega_005.fcs/TIG3-2/Q4: FSC-A- ...  4721.0       94.7\n",
            "224  Specimen_001_Y_1_001.fcs/TIG3-2/Q4: FSC-A- , F...  4669.0       93.6\n",
            "236  Specimen_001_Y_2_002.fcs/TIG3-2/Q4: FSC-A- , F...  4683.0       93.9\n",
            "248  Specimen_001_Y_3_003.fcs/TIG3-2/Q4: FSC-A- , F...  4614.0       92.4\n",
            "260  Specimen_001_Y_4_004.fcs/TIG3-2/Q4: FSC-A- , F...  4646.0       93.0\n",
            "272  Specimen_001_2000_021.fcs/TIG3-2/Q4: FSC-A- , ...  2840.0       79.0\n",
            "284  Specimen_001_3000_022.fcs/TIG3-2/Q4: FSC-A- , ...  2008.0       80.0\n",
            "296  Specimen_001_4000_023.fcs/TIG3-2/Q4: FSC-A- , ...  1675.0       78.8\n",
            "抽出したデータがCSVファイル /content/filtered_cells.csv に書き出されました。\n"
          ]
        }
      ],
      "source": [
        "import pandas as pd\n",
        "\n",
        "def extract_cells_based_on_keywords(dataframe, word1, word2, exclude_word):\n",
        "    # 指定された2つの単語が「Name」列に含まれる行をフィルタリング（大文字小文字を無視）\n",
        "    filtered_data = dataframe[dataframe['Name'].str.contains(word1, case=False, na=False) & dataframe['Name'].str.contains(word2, case=False, na=False)]\n",
        "\n",
        "    # 除外ワードを含む行を削除\n",
        "    if exclude_word:\n",
        "        filtered_data = filtered_data[~filtered_data['Name'].str.contains(exclude_word, case=False, na=False)]\n",
        "\n",
        "    # 「Name」と「#Cells」列を抽出\n",
        "    result = filtered_data[['Name', '#Cells', 'Statistic']]\n",
        "    return result\n",
        "\n",
        "# データの読み込み\n",
        "csv_file_path = '/content/30-Sep-2024.csv'  # CSVファイルのパス\n",
        "data_csv = pd.read_csv(csv_file_path)\n",
        "\n",
        "# 抽出に使うキーワードを指定\n",
        "word1 = 'Q4'  # 例: 1つ目のキーワード\n",
        "word2 = 'TIG3-2'  # 例: 2つ目のキーワード\n",
        "exclude_word = ''  # 例: 除外するワード\n",
        "\n",
        "# 関数を使用して該当するデータを抽出\n",
        "filtered_cells = extract_cells_based_on_keywords(data_csv, word1, word2, exclude_word)\n",
        "\n",
        "# 抽出した結果をCSVファイルに書き出す\n",
        "output_file_path = '/content/filtered_cells.csv'\n",
        "filtered_cells.to_csv(output_file_path, index=False)\n",
        "\n",
        "# 抽出した結果を表示\n",
        "print(filtered_cells)\n",
        "\n",
        "print(f\"抽出したデータがCSVファイル {output_file_path} に書き出されました。\")"
      ]
    }
  ]
}