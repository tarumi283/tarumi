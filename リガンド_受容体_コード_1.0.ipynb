{
  "nbformat": 4,
  "nbformat_minor": 0,
  "metadata": {
    "colab": {
      "provenance": [],
      "authorship_tag": "ABX9TyM6kXSygsVtHOW99TYrDh5g",
      "include_colab_link": true
    },
    "kernelspec": {
      "name": "python3",
      "display_name": "Python 3"
    },
    "language_info": {
      "name": "python"
    }
  },
  "cells": [
    {
      "cell_type": "markdown",
      "metadata": {
        "id": "view-in-github",
        "colab_type": "text"
      },
      "source": [
        "<a href=\"https://colab.research.google.com/github/tarumi283/tarumi/blob/main/%E3%83%AA%E3%82%AC%E3%83%B3%E3%83%89_%E5%8F%97%E5%AE%B9%E4%BD%93_%E3%82%B3%E3%83%BC%E3%83%89_1.0.ipynb\" target=\"_parent\"><img src=\"https://colab.research.google.com/assets/colab-badge.svg\" alt=\"Open In Colab\"/></a>"
      ]
    },
    {
      "cell_type": "code",
      "source": [
        "!pip install pubchempy"
      ],
      "metadata": {
        "id": "bHMuBFUVlI0q",
        "outputId": "9a64e281-5ef9-480c-84a6-bf77b14114bf",
        "colab": {
          "base_uri": "https://localhost:8080/"
        }
      },
      "execution_count": 4,
      "outputs": [
        {
          "output_type": "stream",
          "name": "stdout",
          "text": [
            "Collecting pubchempy\n",
            "  Downloading PubChemPy-1.0.4.tar.gz (29 kB)\n",
            "  Preparing metadata (setup.py) ... \u001b[?25l\u001b[?25hdone\n",
            "Building wheels for collected packages: pubchempy\n",
            "  Building wheel for pubchempy (setup.py) ... \u001b[?25l\u001b[?25hdone\n",
            "  Created wheel for pubchempy: filename=PubChemPy-1.0.4-py3-none-any.whl size=13820 sha256=96db8ad8ca2d3c3cc9e3391a7abb131c58bc511177452a81ba0c94d8f0fee34f\n",
            "  Stored in directory: /root/.cache/pip/wheels/90/7c/45/18a0671e3c3316966ef7ed9ad2b3f3300a7e41d3421a44e799\n",
            "Successfully built pubchempy\n",
            "Installing collected packages: pubchempy\n",
            "Successfully installed pubchempy-1.0.4\n"
          ]
        }
      ]
    },
    {
      "cell_type": "code",
      "execution_count": 6,
      "metadata": {
        "id": "O7EzeSc8hmxh",
        "outputId": "64184616-f6c2-4a50-867c-468144f09c8e",
        "colab": {
          "base_uri": "https://localhost:8080/"
        }
      },
      "outputs": [
        {
          "output_type": "stream",
          "name": "stdout",
          "text": [
            "リガンド 'SF1' の情報を取得中にエラーが発生しました: 'PUGREST.BadRequest'\n",
            "リガンド 'LRP5' の情報を取得中にエラーが発生しました: 'PUGREST.ServerBusy'\n",
            "リガンド 'IGFBP2' の情報を取得中にエラーが発生しました: 'PUGREST.ServerBusy'\n",
            "リガンド 'TGFBR2' の情報を取得中にエラーが発生しました: 'PUGREST.ServerBusy'\n",
            "リガンド 'WBP1' の情報を取得中にエラーが発生しました: 'PUGREST.ServerBusy'\n",
            "リガンド 'LTBR' の情報を取得中にエラーが発生しました: 'PUGREST.ServerBusy'\n",
            "リガンド 'DCAF6' の情報を取得中にエラーが発生しました: 'PUGREST.ServerBusy'\n",
            "リガンド 'AMH' の情報を取得中にエラーが発生しました: 'PUGREST.BadRequest'\n",
            "リガンド 'GPR161' の情報を取得中にエラーが発生しました: 'PUGREST.ServerBusy'\n",
            "リガンド 'EDN2' の情報を取得中にエラーが発生しました: 'PUGREST.ServerBusy'\n",
            "リガンド 'DCC' の情報を取得中にエラーが発生しました: 'PUGREST.BadRequest'\n",
            "リガンド 'CD274' の情報を取得中にエラーが発生しました: 'PUGREST.ServerBusy'\n",
            "リガンド 'SCUBE3' の情報を取得中にエラーが発生しました: 'PUGREST.ServerBusy'\n",
            "リガンド 'CELSR1' の情報を取得中にエラーが発生しました: 'PUGREST.ServerBusy'\n",
            "リガンド 'SIGLEC1' の情報を取得中にエラーが発生しました: 'PUGREST.ServerBusy'\n",
            "リガンド 'AR' の情報を取得中にエラーが発生しました: 'PUGREST.BadRequest'\n",
            "リガンド 'VDR' の情報を取得中にエラーが発生しました: 'PUGREST.BadRequest'\n",
            "リガンド 'VTN' の情報を取得中にエラーが発生しました: 'PUGREST.ServerBusy'\n",
            "リガンド 'ADAM22' の情報を取得中にエラーが発生しました: 'PUGREST.ServerBusy'\n",
            "リガンド 'NR3C2' の情報を取得中にエラーが発生しました: 'PUGREST.ServerBusy'\n",
            "リガンド 'MET' の情報を取得中にエラーが発生しました: 'PUGREST.BadRequest'\n",
            "リガンド情報を含むExcelファイル '/content/output_with_pubchem_info.xlsx' に保存しました。\n"
          ]
        }
      ],
      "source": [
        "import pandas as pd\n",
        "import pubchempy as pcp\n",
        "\n",
        "# エクセルファイルのパスを指定\n",
        "excel_file = \"/content/output_genes.xlsx\"\n",
        "output_excel_file = \"/content/output_with_pubchem_info.xlsx\"\n",
        "\n",
        "# エクセルファイルを読み込む\n",
        "try:\n",
        "    df = pd.read_excel(excel_file)\n",
        "except FileNotFoundError:\n",
        "    print(f\"エクセルファイル '{excel_file}' が見つかりません。\")\n",
        "    exit()\n",
        "\n",
        "# リガンド情報を含む2列目のデータを取得\n",
        "ligand_names = df.iloc[:, 1]\n",
        "\n",
        "# リガンド情報を格納するリスト\n",
        "ligand_info = []\n",
        "\n",
        "# PubChemでリガンド情報を取得\n",
        "for ligand_name in ligand_names:\n",
        "    try:\n",
        "        # PubChemでリガンドを検索\n",
        "        results = pcp.get_compounds(ligand_name, 'name')\n",
        "\n",
        "        # リガンド情報を格納する辞書\n",
        "        ligand_data = {\"リガンド名\": ligand_name, \"CID\": None, \"IUPAC名\": None, \"関連する受容体\": []}\n",
        "\n",
        "        # 結果を取得し、最初の化合物を選択\n",
        "        if results:\n",
        "            compound = results[0]\n",
        "            ligand_data[\"CID\"] = compound.cid\n",
        "            ligand_data[\"IUPAC名\"] = compound.iupac_name\n",
        "\n",
        "            # リガンドに関連する受容体情報を取得\n",
        "            records = pcp.get_substances(f\"CompoundID:{compound.cid}\")\n",
        "\n",
        "            for record in records:\n",
        "                if 'ProteinName' in record.to_dict():\n",
        "                    protein_name = record.to_dict()['ProteinName']\n",
        "                    ligand_data[\"関連する受容体\"].append(protein_name)\n",
        "\n",
        "        ligand_info.append(ligand_data)\n",
        "    except Exception as e:\n",
        "        print(f\"リガンド '{ligand_name}' の情報を取得中にエラーが発生しました: {str(e)}\")\n",
        "\n",
        "# リガンド情報を含むデータフレームを作成\n",
        "output_df = pd.DataFrame(ligand_info)\n",
        "\n",
        "# データフレームを新しいExcelファイルに保存\n",
        "output_df.to_excel(output_excel_file, index=False)\n",
        "print(f\"リガンド情報を含むExcelファイル '{output_excel_file}' に保存しました。\")"
      ]
    }
  ]
}