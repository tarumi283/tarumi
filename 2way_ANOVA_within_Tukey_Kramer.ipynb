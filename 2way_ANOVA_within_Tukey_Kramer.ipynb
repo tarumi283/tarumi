{
  "nbformat": 4,
  "nbformat_minor": 0,
  "metadata": {
    "colab": {
      "provenance": [],
      "authorship_tag": "ABX9TyPARawSm/RMiP8FBbfhTboC",
      "include_colab_link": true
    },
    "kernelspec": {
      "name": "python3",
      "display_name": "Python 3"
    },
    "language_info": {
      "name": "python"
    }
  },
  "cells": [
    {
      "cell_type": "markdown",
      "metadata": {
        "id": "view-in-github",
        "colab_type": "text"
      },
      "source": [
        "<a href=\"https://colab.research.google.com/github/tarumi283/tarumi/blob/main/2way_ANOVA_within_Tukey_Kramer.ipynb\" target=\"_parent\"><img src=\"https://colab.research.google.com/assets/colab-badge.svg\" alt=\"Open In Colab\"/></a>"
      ]
    },
    {
      "cell_type": "code",
      "execution_count": null,
      "metadata": {
        "id": "FUI6LoU6bMlK"
      },
      "outputs": [],
      "source": [
        "pip install pandas statsmodels"
      ]
    },
    {
      "cell_type": "code",
      "source": [
        "import pandas as pd\n",
        "import statsmodels.api as sm\n",
        "from statsmodels.stats.anova import AnovaRM\n",
        "from statsmodels.stats.multicomp import MultiComparison\n",
        "\n",
        "# CSVファイルのパス\n",
        "csv_file_path = '/content/result_exp1_within.csv'\n",
        "\n",
        "# CSVファイルの読み込み\n",
        "data = pd.read_csv(csv_file_path)\n",
        "\n",
        "# データの確認\n",
        "print(\"データの先頭部分:\\n\", data.head())\n",
        "\n",
        "# 因子Aと因子Bと被験者IDの名前を適切に設定してください\n",
        "factorA = 'factorA'  # 被験者内要因Aを示す列名\n",
        "factorB = 'factorB'  # 被験者内要因Bを示す列名\n",
        "subject_column = 'subject'  # 被験者IDを示す列名\n",
        "value_column = 'value'  # 値を示す列名\n",
        "\n",
        "# 被験者内要因に対する2要因分散分析の実行\n",
        "anova_rm = AnovaRM(data, depvar=value_column, subject=subject_column, within=[factorA, factorB])\n",
        "anova_results = anova_rm.fit()\n",
        "anova_table = anova_results.anova_table\n",
        "\n",
        "# 分散分析結果の表示\n",
        "print(\"\\n被験者内要因に対する2要因分散分析の結果:\\n\", anova_table)\n",
        "\n",
        "# 誤差平方和の計算\n",
        "anova_table['Sum Sq'] = anova_table['F Value'] * anova_table['Num DF'] * anova_table['Den DF']\n",
        "\n",
        "# 誤差平方和の合計を計算し、残差の平方和として使用\n",
        "total_sum_sq = data[value_column].var() * (len(data) - 1)  # 総平方和\n",
        "residual_sum_sq = total_sum_sq - anova_table['Sum Sq'].sum()  # 残差平方和\n",
        "\n",
        "# 部分η²の計算\n",
        "anova_table['Partial η²'] = anova_table['Sum Sq'] / (anova_table['Sum Sq'] + residual_sum_sq)\n",
        "print(\"\\n部分η²を含む分散分析結果:\\n\", anova_table)\n",
        "\n",
        "# 因子Aに対するTukey-Kramer HSDの実行\n",
        "mc_A = MultiComparison(data[value_column], data[factorA])\n",
        "result_A = mc_A.tukeyhsd()\n",
        "print(\"\\nTukey-Kramer HSDの結果 (因子Aの比較):\")\n",
        "print(result_A)\n",
        "print(result_A.summary())\n",
        "\n",
        "# 因子Bに対するTukey-Kramer HSDの実行\n",
        "mc_B = MultiComparison(data[value_column], data[factorB])\n",
        "result_B = mc_B.tukeyhsd()\n",
        "print(\"\\nTukey-Kramer HSDの結果 (因子Bの比較):\")\n",
        "print(result_B)\n",
        "print(result_B.summary())\n",
        "\n",
        "# 交互作用効果に対するTukey-Kramer HSD検定のための新しい列を作成\n",
        "data['interaction'] = data[factorA].astype(str) + ':' + data[factorB].astype(str)\n",
        "mc_interaction = MultiComparison(data[value_column], data['interaction'])\n",
        "result_interaction = mc_interaction.tukeyhsd()\n",
        "print(\"\\nTukey-Kramer HSDの結果 (交互作用の比較):\")\n",
        "print(result_interaction)\n",
        "print(result_interaction.summary())"
      ],
      "metadata": {
        "id": "qrA33k9pYQa0",
        "outputId": "28799f4e-344a-4109-de4d-b0f98dc90dc0",
        "colab": {
          "base_uri": "https://localhost:8080/"
        }
      },
      "execution_count": null,
      "outputs": [
        {
          "output_type": "stream",
          "name": "stdout",
          "text": [
            "データの先頭部分:\n",
            "    subject       value factorA factorB\n",
            "0        1  326.616628  moring     pre\n",
            "1        2  237.014272  moring     pre\n",
            "2        3  180.624471  moring     pre\n",
            "3        4  403.583413  moring     pre\n",
            "4        5  186.317823  moring     pre\n",
            "\n",
            "被験者内要因に対する2要因分散分析の結果:\n",
            "                    F Value  Num DF  Den DF    Pr > F\n",
            "factorA          12.458347     1.0    20.0  0.002105\n",
            "factorB           7.568219     1.0    20.0  0.012318\n",
            "factorA:factorB   2.922103     1.0    20.0  0.102846\n",
            "\n",
            "部分η²を含む分散分析結果:\n",
            "                    F Value  Num DF  Den DF    Pr > F      Sum Sq  Partial η²\n",
            "factorA          12.458347     1.0    20.0  0.002105  249.166938    0.000453\n",
            "factorB           7.568219     1.0    20.0  0.012318  151.364385    0.000275\n",
            "factorA:factorB   2.922103     1.0    20.0  0.102846   58.442068    0.000106\n",
            "\n",
            "Tukey-Kramer HSDの結果 (因子Aの比較):\n",
            " Multiple Comparison of Means - Tukey HSD, FWER=0.05 \n",
            "=====================================================\n",
            " group1 group2 meandiff p-adj   lower   upper  reject\n",
            "-----------------------------------------------------\n",
            "evening moring  48.5161 0.0056 14.5903 82.4419   True\n",
            "-----------------------------------------------------\n",
            " Multiple Comparison of Means - Tukey HSD, FWER=0.05 \n",
            "=====================================================\n",
            " group1 group2 meandiff p-adj   lower   upper  reject\n",
            "-----------------------------------------------------\n",
            "evening moring  48.5161 0.0056 14.5903 82.4419   True\n",
            "-----------------------------------------------------\n",
            "\n",
            "Tukey-Kramer HSDの結果 (因子Bの比較):\n",
            " Multiple Comparison of Means - Tukey HSD, FWER=0.05 \n",
            "=====================================================\n",
            "group1 group2 meandiff p-adj   lower    upper  reject\n",
            "-----------------------------------------------------\n",
            "  post    pre -21.8935 0.2199 -57.1274 13.3404  False\n",
            "-----------------------------------------------------\n",
            " Multiple Comparison of Means - Tukey HSD, FWER=0.05 \n",
            "=====================================================\n",
            "group1 group2 meandiff p-adj   lower    upper  reject\n",
            "-----------------------------------------------------\n",
            "  post    pre -21.8935 0.2199 -57.1274 13.3404  False\n",
            "-----------------------------------------------------\n",
            "\n",
            "Tukey-Kramer HSDの結果 (交互作用の比較):\n",
            "       Multiple Comparison of Means - Tukey HSD, FWER=0.05       \n",
            "=================================================================\n",
            "   group1       group2   meandiff p-adj   lower    upper   reject\n",
            "-----------------------------------------------------------------\n",
            "evening:post evening:pre -31.9258 0.5507 -95.2105  31.3588  False\n",
            "evening:post moring:post  38.4838  0.387 -24.8009 101.7684  False\n",
            "evening:post  moring:pre  26.6226 0.6882 -36.6621  89.9072  False\n",
            " evening:pre moring:post  70.4096 0.0231    7.125 133.6943   True\n",
            " evening:pre  moring:pre  58.5484   0.08  -4.7363  121.833  False\n",
            " moring:post  moring:pre -11.8612 0.9607 -75.1459  51.4234  False\n",
            "-----------------------------------------------------------------\n",
            "       Multiple Comparison of Means - Tukey HSD, FWER=0.05       \n",
            "=================================================================\n",
            "   group1       group2   meandiff p-adj   lower    upper   reject\n",
            "-----------------------------------------------------------------\n",
            "evening:post evening:pre -31.9258 0.5507 -95.2105  31.3588  False\n",
            "evening:post moring:post  38.4838  0.387 -24.8009 101.7684  False\n",
            "evening:post  moring:pre  26.6226 0.6882 -36.6621  89.9072  False\n",
            " evening:pre moring:post  70.4096 0.0231    7.125 133.6943   True\n",
            " evening:pre  moring:pre  58.5484   0.08  -4.7363  121.833  False\n",
            " moring:post  moring:pre -11.8612 0.9607 -75.1459  51.4234  False\n",
            "-----------------------------------------------------------------\n"
          ]
        }
      ]
    }
  ]
}