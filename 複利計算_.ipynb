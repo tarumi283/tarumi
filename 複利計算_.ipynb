{
  "nbformat": 4,
  "nbformat_minor": 0,
  "metadata": {
    "colab": {
      "provenance": [],
      "authorship_tag": "ABX9TyPwjy42neq1eTVWlZiHkIoU",
      "include_colab_link": true
    },
    "kernelspec": {
      "name": "python3",
      "display_name": "Python 3"
    },
    "language_info": {
      "name": "python"
    }
  },
  "cells": [
    {
      "cell_type": "markdown",
      "metadata": {
        "id": "view-in-github",
        "colab_type": "text"
      },
      "source": [
        "<a href=\"https://colab.research.google.com/github/tarumi283/tarumi/blob/main/%E8%A4%87%E5%88%A9%E8%A8%88%E7%AE%97_.ipynb\" target=\"_parent\"><img src=\"https://colab.research.google.com/assets/colab-badge.svg\" alt=\"Open In Colab\"/></a>"
      ]
    },
    {
      "cell_type": "code",
      "execution_count": 4,
      "metadata": {
        "id": "NejgPR2z1mQ6",
        "outputId": "c5c579f6-9f49-44cb-8bfb-dec59a60b8c8",
        "colab": {
          "base_uri": "https://localhost:8080/"
        }
      },
      "outputs": [
        {
          "output_type": "stream",
          "name": "stdout",
          "text": [
            "20年後の結果：2619826.99円\n"
          ]
        }
      ],
      "source": [
        "# 初期設定\n",
        "元本 = 0  # 初期の元本（0円からスタート）\n",
        "毎月の投資額 = 5000  # 毎月の投資額（2万円）\n",
        "年間利回り = 0.07  # 年間利回り（7%）\n",
        "\n",
        "# 投資期間\n",
        "投資期間 = 20  # 投資期間（25年）\n",
        "\n",
        "# 複利計算\n",
        "for 年 in range(投資期間):\n",
        "    for 月 in range(12):  # 12ヶ月分繰り返す\n",
        "        元本 += 毎月の投資額  # 毎月の投資額を追加\n",
        "        元本 += 元本 * (年間利回り / 12)  # 利回りを考慮した増加分を追加\n",
        "\n",
        "# 結果を表示\n",
        "print(f\"{投資期間}年後の結果：{元本:.2f}円\")"
      ]
    },
    {
      "cell_type": "code",
      "source": [
        "元本 = 0  # 初期の元本（0円からスタート）\n",
        "初期投資額 = 100000  # 最初の5年間の毎月の投資額（10万円）\n",
        "後半毎月増加額 = 5000  # 以降の毎月の投資増加額（5千円）\n",
        "年間利回り = 0.07  # 年間利回り（7%）\n",
        "\n",
        "# 投資期間\n",
        "投資期間 = 20  # 投資期間（20年）\n",
        "\n",
        "# 複利計算\n",
        "for 年 in range(投資期間):\n",
        "    for 月 in range(12):  # 12ヶ月分繰り返す\n",
        "        if 年 < 5:\n",
        "            毎月の投資額 = 初期投資額\n",
        "        else:\n",
        "            毎月の投資額 = 5000  # 5年後からは毎月5000円ずつ投資額が増加\n",
        "\n",
        "        元本 += 毎月の投資額  # 毎月の投資額を追加\n",
        "        元本 += 元本 * (年間利回り / 12)  # 利回りを考慮した増加分を追加\n",
        "\n",
        "# 結果を表示\n",
        "print(f\"{投資期間}年後の結果：{元本:.2f}円\")"
      ],
      "metadata": {
        "id": "GjkSAZHu3xr3",
        "outputId": "f5c0e656-6071-4f56-b2f5-4b396fccf56d",
        "colab": {
          "base_uri": "https://localhost:8080/"
        }
      },
      "execution_count": 13,
      "outputs": [
        {
          "output_type": "stream",
          "name": "stdout",
          "text": [
            "20年後の結果：22109471.74円\n"
          ]
        }
      ]
    },
    {
      "cell_type": "code",
      "source": [
        " #初期設定\n",
        "元本 = 0  # 初期の元本（0円からスタート）\n",
        "毎月の投資額 = 12000  # 毎月の投資額（2万円）\n",
        "年間利回り = 0.05  # 年間利回り（7%）\n",
        "税金率 = 0.20  # 利益に対する税金率（20%）\n",
        "\n",
        "# 投資期間\n",
        "投資期間 = 25  # 投資期間（25年）\n",
        "\n",
        "# 複利計算と税金計算\n",
        "for 年 in range(投資期間):\n",
        "    for 月 in range(12):  # 12ヶ月分繰り返す\n",
        "        元本 += 毎月の投資額  # 毎月の投資額を追加\n",
        "        利益 = 元本 * (年間利回り / 12)  # 月間の利益を計算\n",
        "        税金 = 利益 * 税金率  # 利益に対する税金を計算\n",
        "        元本 += 利益 - 税金  # 利益から税金を差し引いて元本に加える\n",
        "\n",
        "# 結果を表示\n",
        "print(f\"{投資期間}年後の結果：{元本:.2f}円\")"
      ],
      "metadata": {
        "id": "8u0J1kcg4Ac2",
        "outputId": "44aad89c-1ffc-4e86-f59d-0da0d7354aa6",
        "colab": {
          "base_uri": "https://localhost:8080/"
        }
      },
      "execution_count": null,
      "outputs": [
        {
          "output_type": "stream",
          "name": "stdout",
          "text": [
            "25年後の結果：6190119.75円\n"
          ]
        }
      ]
    }
  ]
}