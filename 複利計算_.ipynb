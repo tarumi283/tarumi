{
  "nbformat": 4,
  "nbformat_minor": 0,
  "metadata": {
    "colab": {
      "provenance": [],
      "authorship_tag": "ABX9TyPLcg3D4+zBv0MqfRIqYHjK",
      "include_colab_link": true
    },
    "kernelspec": {
      "name": "python3",
      "display_name": "Python 3"
    },
    "language_info": {
      "name": "python"
    }
  },
  "cells": [
    {
      "cell_type": "markdown",
      "metadata": {
        "id": "view-in-github",
        "colab_type": "text"
      },
      "source": [
        "<a href=\"https://colab.research.google.com/github/tarumi283/tarumi/blob/main/%E8%A4%87%E5%88%A9%E8%A8%88%E7%AE%97_.ipynb\" target=\"_parent\"><img src=\"https://colab.research.google.com/assets/colab-badge.svg\" alt=\"Open In Colab\"/></a>"
      ]
    },
    {
      "cell_type": "code",
      "execution_count": null,
      "metadata": {
        "id": "NejgPR2z1mQ6"
      },
      "outputs": [],
      "source": [
        "# 初期設定\n",
        "元本 = 0  # 初期の元本（0円からスタート）\n",
        "毎月の投資額 = 20000  # 毎月の投資額（2万円）\n",
        "年間利回り = 0.07  # 年間利回り（7%）\n",
        "\n",
        "# 投資期間\n",
        "投資期間 = 25  # 投資期間（25年）\n",
        "\n",
        "# 複利計算\n",
        "for 年 in range(投資期間):\n",
        "    for 月 in range(12):  # 12ヶ月分繰り返す\n",
        "        元本 += 毎月の投資額  # 毎月の投資額を追加\n",
        "        元本 += 元本 * (年間利回り / 12)  # 利回りを考慮した増加分を追加\n",
        "\n",
        "# 結果を表示\n",
        "print(f\"{投資期間}年後の結果：{元本:.2f}円\")"
      ]
    }
  ]
}