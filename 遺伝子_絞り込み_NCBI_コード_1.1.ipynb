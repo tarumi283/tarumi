{
  "nbformat": 4,
  "nbformat_minor": 0,
  "metadata": {
    "colab": {
      "provenance": [],
      "authorship_tag": "ABX9TyNJ/VVoxbT0jCWnGPNK6Rkz",
      "include_colab_link": true
    },
    "kernelspec": {
      "name": "python3",
      "display_name": "Python 3"
    },
    "language_info": {
      "name": "python"
    }
  },
  "cells": [
    {
      "cell_type": "markdown",
      "metadata": {
        "id": "view-in-github",
        "colab_type": "text"
      },
      "source": [
        "<a href=\"https://colab.research.google.com/github/tarumi283/tarumi/blob/main/%E9%81%BA%E4%BC%9D%E5%AD%90_%E7%B5%9E%E3%82%8A%E8%BE%BC%E3%81%BF_NCBI_%E3%82%B3%E3%83%BC%E3%83%89_1.1.ipynb\" target=\"_parent\"><img src=\"https://colab.research.google.com/assets/colab-badge.svg\" alt=\"Open In Colab\"/></a>"
      ]
    },
    {
      "cell_type": "code",
      "execution_count": 1,
      "metadata": {
        "id": "HInp4KwT48r0",
        "outputId": "86c3b43c-6b24-4ecf-be36-363e18b23faf",
        "colab": {
          "base_uri": "https://localhost:8080/"
        }
      },
      "outputs": [
        {
          "output_type": "stream",
          "name": "stdout",
          "text": [
            "Collecting biopython\n",
            "  Downloading biopython-1.81-cp310-cp310-manylinux_2_17_x86_64.manylinux2014_x86_64.whl (3.1 MB)\n",
            "\u001b[2K     \u001b[90m━━━━━━━━━━━━━━━━━━━━━━━━━━━━━━━━━━━━━━━━\u001b[0m \u001b[32m3.1/3.1 MB\u001b[0m \u001b[31m14.5 MB/s\u001b[0m eta \u001b[36m0:00:00\u001b[0m\n",
            "\u001b[?25hRequirement already satisfied: numpy in /usr/local/lib/python3.10/dist-packages (from biopython) (1.23.5)\n",
            "Installing collected packages: biopython\n",
            "Successfully installed biopython-1.81\n"
          ]
        }
      ],
      "source": [
        "!pip install biopython"
      ]
    },
    {
      "cell_type": "code",
      "source": [
        "import pandas as pd\n",
        "from Bio import Entrez\n",
        "\n",
        "# BiopythonのEntrezモジュールを初期化\n",
        "Entrez.email = \"tarumi.wataru@gmail.com\"  # あなたのメールアドレスを設定してください\n",
        "Entrez.api_key = \"d9702839c15b5365a594355c0c6974cc6207\"  # あなたのAPIキーを設定してください\n",
        "\n",
        "# エクセルファイルから遺伝子IDを読み込む\n",
        "excel_file = \"/content/GV_MⅡ_GSE75738_.xls.xlsx\"  # エクセルファイルのパスを指定してください\n",
        "gene_df = pd.read_excel(excel_file)\n",
        "gene_ids = gene_df.iloc[:, 0].tolist()  # 一列目の遺伝子IDを取得\n",
        "\n",
        "# 検索対象のキーワードを指定\n",
        "search_keyword = \"ligand\"  # 検索したいキーワードを指定してください\n",
        "\n",
        "# 遺伝子情報を取得し、指定したキーワードを含む遺伝子と遺伝子名を抽出\n",
        "matching_genes = []\n",
        "\n",
        "for gene_id in gene_ids:\n",
        "    # Geneデータベースから遺伝子情報を取得\n",
        "    handle = Entrez.efetch(db=\"gene\", id=gene_id, retmode=\"xml\")\n",
        "    record = Entrez.read(handle)\n",
        "\n",
        "    # 遺伝子情報からキーワードを検索\n",
        "    gene_summary = record[0].get(\"Entrezgene_summary\", \"\")\n",
        "\n",
        "    if search_keyword in gene_summary:\n",
        "        gene_name = record[0].get(\"Entrezgene_gene\", \"N/A\")  # 遺伝子名を取得\n",
        "        matching_genes.append((gene_id, gene_name))\n",
        "\n",
        "    handle.close()\n",
        "\n",
        "# 検索結果をCSVファイルに保存\n",
        "if matching_genes:\n",
        "    result_df = pd.DataFrame(matching_genes, columns=[\"Gene ID\", \"Gene Name\"])\n",
        "    result_csv = \"matching_genes.csv\"\n",
        "    result_df.to_csv(result_csv, index=False)\n",
        "    print(f\"以下の遺伝子がキーワードを含んでいます。結果は'{result_csv}'に保存されました:\")\n",
        "    print(result_df)\n",
        "else:\n",
        "    print(\"指定したキーワードを含む遺伝子は見つかりませんでした。\")"
      ],
      "metadata": {
        "id": "z9ILRrfK0Nq2",
        "outputId": "ca9fbdc2-3a5e-460a-abf7-f5c88ea35ec4",
        "colab": {
          "base_uri": "https://localhost:8080/"
        }
      },
      "execution_count": 27,
      "outputs": [
        {
          "output_type": "stream",
          "name": "stdout",
          "text": [
            "以下の遺伝子がキーワードを含んでいます。結果は'matching_genes.csv'に保存されました:\n",
            "   Gene ID                                          Gene Name\n",
            "0    29893  {'Gene-ref': {'Gene-ref_locus': 'PSMC3IP', 'Ge...\n",
            "1    17311  {'Gene-ref': {'Gene-ref_locus': 'Kitl', 'Gene-...\n"
          ]
        }
      ]
    }
  ]
}