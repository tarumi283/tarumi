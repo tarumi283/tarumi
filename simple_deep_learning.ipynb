{
  "nbformat": 4,
  "nbformat_minor": 0,
  "metadata": {
    "colab": {
      "name": "simple_deep_learning.ipynb",
      "provenance": [],
      "collapsed_sections": [],
      "include_colab_link": true
    },
    "kernelspec": {
      "name": "python3",
      "display_name": "Python 3"
    }
  },
  "cells": [
    {
      "cell_type": "markdown",
      "metadata": {
        "id": "view-in-github",
        "colab_type": "text"
      },
      "source": [
        "<a href=\"https://colab.research.google.com/github/tarumi283/tarumi/blob/main/simple_deep_learning.ipynb\" target=\"_parent\"><img src=\"https://colab.research.google.com/assets/colab-badge.svg\" alt=\"Open In Colab\"/></a>"
      ]
    },
    {
      "cell_type": "markdown",
      "metadata": {
        "id": "hhIoNQe4a84i"
      },
      "source": [
        "# シンプルなディープラーニング\n",
        "Kerasを使って、最小限のディープラーニングを実装します。"
      ]
    },
    {
      "cell_type": "markdown",
      "metadata": {
        "id": "B-ECLOtv89nP"
      },
      "source": [
        "## データの読み込み\n",
        "Irisデータセットを読み込みます。  \n",
        "https://scikit-learn.org/stable/auto_examples/datasets/plot_iris_dataset.html"
      ]
    },
    {
      "cell_type": "code",
      "metadata": {
        "id": "CyzqJCBE3if_",
        "colab": {
          "base_uri": "https://localhost:8080/"
        },
        "outputId": "98c80eba-d32c-445f-a0f1-d02149bd43cc"
      },
      "source": [
        "import numpy as np\n",
        "from sklearn import datasets\n",
        "import pandas as pd\n",
        "import csv\n",
        "from google.colab import files\n",
        "\n",
        "iris = datasets.load_iris()\n",
        "\n",
        "\n",
        "print(iris.data[:10])  # データを10個表示\n",
        "print(iris.target[:10])  # ラベルを10個表示\n",
        "print(iris.data.shape)  # データの形状を表示\n",
        "\n"
      ],
      "execution_count": 2,
      "outputs": [
        {
          "output_type": "stream",
          "name": "stdout",
          "text": [
            "[[5.1 3.5 1.4 0.2]\n",
            " [4.9 3.  1.4 0.2]\n",
            " [4.7 3.2 1.3 0.2]\n",
            " [4.6 3.1 1.5 0.2]\n",
            " [5.  3.6 1.4 0.2]\n",
            " [5.4 3.9 1.7 0.4]\n",
            " [4.6 3.4 1.4 0.3]\n",
            " [5.  3.4 1.5 0.2]\n",
            " [4.4 2.9 1.4 0.2]\n",
            " [4.9 3.1 1.5 0.1]]\n",
            "[0 0 0 0 0 0 0 0 0 0]\n",
            "(150, 4)\n"
          ]
        }
      ]
    },
    {
      "cell_type": "code",
      "source": [
        "from google.colab import drive\n",
        "drive.mount('/content/drive')"
      ],
      "metadata": {
        "colab": {
          "base_uri": "https://localhost:8080/"
        },
        "id": "hTSTNRNL-C8-",
        "outputId": "59273421-ba96-47d4-8193-c9837bb86d19"
      },
      "execution_count": 3,
      "outputs": [
        {
          "output_type": "stream",
          "name": "stdout",
          "text": [
            "Mounted at /content/drive\n"
          ]
        }
      ]
    },
    {
      "cell_type": "markdown",
      "metadata": {
        "id": "NZb0g94VxhvQ"
      },
      "source": [
        "## データの前処理\n",
        "データの前処理として、標準化を行います。  \n",
        "標準化は、平均値が0、標準偏差が1になるように変換する処理です。  \n",
        "https://scikit-learn.org/stable/modules/preprocessing.html  \n",
        "  \n",
        "ラベルをone-hot表現に変換します。  \n",
        "one-hot表現は、一箇所だけ1で残りは０の配列です。  \n",
        "https://keras.io/ja/utils/np_utils/"
      ]
    },
    {
      "cell_type": "code",
      "metadata": {
        "id": "IvCh14ckLYNV",
        "colab": {
          "base_uri": "https://localhost:8080/"
        },
        "outputId": "f584667b-68d6-42d2-bbbf-25865aa2cd27"
      },
      "source": [
        "from sklearn import preprocessing\n",
        "from keras.utils import np_utils\n",
        "\n",
        "scaler = preprocessing.StandardScaler()  # 標準化のためのスケーラー\n",
        "scaler.fit(iris.data)  # パラメータの計算\n",
        "x = scaler.transform(iris.data)  # データの変換\n",
        "print(x[:10])\n",
        "\n",
        "t = np_utils.to_categorical(iris.target)  # ラベルをone-hot表現に変換\n",
        "print(t[:10])"
      ],
      "execution_count": 4,
      "outputs": [
        {
          "output_type": "stream",
          "name": "stdout",
          "text": [
            "[[-0.90068117  1.01900435 -1.34022653 -1.3154443 ]\n",
            " [-1.14301691 -0.13197948 -1.34022653 -1.3154443 ]\n",
            " [-1.38535265  0.32841405 -1.39706395 -1.3154443 ]\n",
            " [-1.50652052  0.09821729 -1.2833891  -1.3154443 ]\n",
            " [-1.02184904  1.24920112 -1.34022653 -1.3154443 ]\n",
            " [-0.53717756  1.93979142 -1.16971425 -1.05217993]\n",
            " [-1.50652052  0.78880759 -1.34022653 -1.18381211]\n",
            " [-1.02184904  0.78880759 -1.2833891  -1.3154443 ]\n",
            " [-1.74885626 -0.36217625 -1.34022653 -1.3154443 ]\n",
            " [-1.14301691  0.09821729 -1.2833891  -1.44707648]]\n",
            "[[1. 0. 0.]\n",
            " [1. 0. 0.]\n",
            " [1. 0. 0.]\n",
            " [1. 0. 0.]\n",
            " [1. 0. 0.]\n",
            " [1. 0. 0.]\n",
            " [1. 0. 0.]\n",
            " [1. 0. 0.]\n",
            " [1. 0. 0.]\n",
            " [1. 0. 0.]]\n"
          ]
        }
      ]
    },
    {
      "cell_type": "markdown",
      "metadata": {
        "id": "VqcsbayqB7N_"
      },
      "source": [
        "## 訓練データとテストデータ\n",
        "データを訓練用のデータとテスト用のデータに分割します。  \n",
        "https://scikit-learn.org/stable/modules/generated/sklearn.model_selection.train_test_split.html"
      ]
    },
    {
      "cell_type": "code",
      "metadata": {
        "id": "Bcrf7UpKAuFM"
      },
      "source": [
        "from sklearn.model_selection import train_test_split\n",
        "\n",
        "# x_train: 訓練用の入力データ\n",
        "# x_test: テスト用の入力データ\n",
        "# t_train: 訓練用の正解データ\n",
        "# t_test: テスト用の正解データ\n",
        "# train_size=0.75: 75%が訓練用、25%がテスト用\n",
        "x_train, x_test, t_train, t_test = train_test_split(x, t, train_size=0.75)"
      ],
      "execution_count": null,
      "outputs": []
    },
    {
      "cell_type": "markdown",
      "metadata": {
        "id": "seSnEh1h81_O"
      },
      "source": [
        "## モデルの構築\n",
        "4層からなる、シンプルなディープラーニングのモデルを構築します。  \n",
        "**Sequentilal**: 単純に層を積み重ねるモデル  \n",
        "https://keras.io/ja/models/sequential/\n",
        "\n",
        "**Dense**: 全結合層  \n",
        "https://keras.io/ja/layers/core/#dense  \n",
        "\n",
        "**Activation**: 活性化関数  \n",
        "https://keras.io/ja/layers/core/#activation  "
      ]
    },
    {
      "cell_type": "code",
      "metadata": {
        "id": "h2D07ONQ82Sf"
      },
      "source": [
        "from keras.models import Sequential\n",
        "from keras.layers import Dense, Activation\n",
        "\n",
        "model = Sequential()\n",
        "model.add(Dense(32, input_dim=4)) # 4つの特徴が入力なので、入力層のニューロン数は4、中間層のニューロン数は32\n",
        "model.add(Activation('relu')) # 活性化関数（ReLU）を追加\n",
        "model.add(Dense(32)) # ニューロン数32の全結合層を追加\n",
        "model.add(Activation('relu')) # 活性化関数（ReLU）を追加\n",
        "model.add(Dense(3)) # 3つに分類するので、出力層のニューロン数は3\n",
        "model.add(Activation('softmax')) # 3つ以上の分類にはソフトマックス関数を使用\n",
        "model.compile(optimizer='sgd',loss='categorical_crossentropy',metrics=['accuracy']) # モデルのコンパイル\n",
        "\n",
        "print(model.summary())"
      ],
      "execution_count": null,
      "outputs": []
    },
    {
      "cell_type": "markdown",
      "metadata": {
        "id": "fe0ayRSi_I9t"
      },
      "source": [
        "## 学習\n",
        "訓練用の入力データと正解データを使って、モデルを訓練します。  \n",
        "**fit**: モデルを訓練する  \n",
        "https://keras.io/ja/models/sequential/#fit  "
      ]
    },
    {
      "cell_type": "code",
      "metadata": {
        "id": "9GFCnKqR_Qpj"
      },
      "source": [
        "history = model.fit(x_train, t_train, epochs=30, batch_size=8)"
      ],
      "execution_count": null,
      "outputs": []
    },
    {
      "cell_type": "markdown",
      "metadata": {
        "id": "A29cxq1qGYq2"
      },
      "source": [
        "## 学習の推移\n",
        "Historyには学習の経過が記録されています。  \n",
        "これを使って、学習の推移を表示します。"
      ]
    },
    {
      "cell_type": "code",
      "metadata": {
        "id": "bL97UMnRGY9V"
      },
      "source": [
        "import matplotlib.pyplot as plt\n",
        "\n",
        "hist_loss = history.history['loss']  # 訓練用データの誤差\n",
        "hist_acc = history.history['accuracy']  # 検証用データの誤差\n",
        "\n",
        "plt.plot(np.arange(len(hist_loss)), hist_loss, label='loss')\n",
        "plt.plot(np.arange(len(hist_acc)), hist_acc, label='accuracy')\n",
        "plt.legend()\n",
        "plt.show()"
      ],
      "execution_count": null,
      "outputs": []
    },
    {
      "cell_type": "markdown",
      "metadata": {
        "id": "0bKt6ksiBewH"
      },
      "source": [
        "## 評価\n",
        "モデルの評価を行います。  \n",
        "**evaluate**: 入力、正解データから誤差などを計算します。  \n",
        "https://keras.io/ja/models/sequential/#evaluate"
      ]
    },
    {
      "cell_type": "code",
      "metadata": {
        "id": "jTsGsQoQCdhe"
      },
      "source": [
        "loss, accuracy = model.evaluate(x_test, t_test)\n",
        "print(loss, accuracy)"
      ],
      "execution_count": null,
      "outputs": []
    },
    {
      "cell_type": "markdown",
      "metadata": {
        "id": "5ewSyftmChON"
      },
      "source": [
        "## 予測\n",
        "学習済みのモデルを使って予測を行います。  \n",
        "**predict**: モデルを使って入力を出力に変換します。  \n",
        "https://keras.io/ja/models/sequential/#predict"
      ]
    },
    {
      "cell_type": "code",
      "metadata": {
        "id": "nIURso4FDPKt"
      },
      "source": [
        "model.predict(x_test)"
      ],
      "execution_count": null,
      "outputs": []
    },
    {
      "cell_type": "markdown",
      "metadata": {
        "id": "UYDFfPrzIVQ4"
      },
      "source": [
        "## モデルの保存\n",
        "学習済みのモデルを保存します。  \n",
        "**save**: モデルを保存します。  \n",
        "**load_model**: 保存されたモデルを読み込みます。    \n",
        "https://keras.io/ja/getting-started/faq/#_4  "
      ]
    },
    {
      "cell_type": "code",
      "metadata": {
        "id": "9bfmNLLYIW7m"
      },
      "source": [
        "from keras.models import load_model\n",
        "\n",
        "model.save('model.h5')\n",
        "load_model('model.h5')"
      ],
      "execution_count": null,
      "outputs": []
    }
  ]
}