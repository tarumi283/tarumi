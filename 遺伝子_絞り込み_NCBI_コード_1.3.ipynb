{
  "nbformat": 4,
  "nbformat_minor": 0,
  "metadata": {
    "colab": {
      "provenance": [],
      "authorship_tag": "ABX9TyP2Xixgzo7Yy1wO9ZRneJba",
      "include_colab_link": true
    },
    "kernelspec": {
      "name": "python3",
      "display_name": "Python 3"
    },
    "language_info": {
      "name": "python"
    }
  },
  "cells": [
    {
      "cell_type": "markdown",
      "metadata": {
        "id": "view-in-github",
        "colab_type": "text"
      },
      "source": [
        "<a href=\"https://colab.research.google.com/github/tarumi283/tarumi/blob/main/%E9%81%BA%E4%BC%9D%E5%AD%90_%E7%B5%9E%E3%82%8A%E8%BE%BC%E3%81%BF_NCBI_%E3%82%B3%E3%83%BC%E3%83%89_1.3.ipynb\" target=\"_parent\"><img src=\"https://colab.research.google.com/assets/colab-badge.svg\" alt=\"Open In Colab\"/></a>"
      ]
    },
    {
      "cell_type": "code",
      "execution_count": null,
      "metadata": {
        "id": "HInp4KwT48r0",
        "outputId": "107e5e0e-0fd1-4299-b9b0-97679649220c",
        "colab": {
          "base_uri": "https://localhost:8080/"
        }
      },
      "outputs": [
        {
          "output_type": "stream",
          "name": "stdout",
          "text": [
            "Requirement already satisfied: biopython in /usr/local/lib/python3.10/dist-packages (1.81)\n",
            "Requirement already satisfied: numpy in /usr/local/lib/python3.10/dist-packages (from biopython) (1.23.5)\n"
          ]
        }
      ],
      "source": [
        "!pip install biopython"
      ]
    },
    {
      "cell_type": "code",
      "source": [
        "import pandas as pd\n",
        "from Bio import Entrez\n",
        "import time\n",
        "\n",
        "# BiopythonのEntrezモジュールを初期化\n",
        "Entrez.email = \"tarumi.wataru@gmail.com\"  # あなたのメールアドレスを設定してください\n",
        "Entrez.api_key = \"d9702839c15b5365a594355c0c6974cc6207\"  # あなたのAPIキーを設定してください\n",
        "\n",
        "# エクセルファイルから遺伝子IDを読み込む\n",
        "excel_file = \"/content/GV_MⅡ_GSE75738.xls.xlsx\"  # エクセルファイルのパスを指定してください\n",
        "N = 3300  # 読み込む行数を設定\n",
        "gene_df = pd.read_excel(excel_file, nrows=N)\n",
        "gene_ids = gene_df.iloc[:, 0].tolist()  # 一列目の遺伝子IDを取得\n",
        "\n",
        "# 検索対象のキーワードを指定\n",
        "search_keyword = \"ligand\"  # 検索したいキーワードを指定してください\n",
        "\n",
        "# 遺伝子情報を取得し、指定したキーワードを含む遺伝子と遺伝子名を抽出\n",
        "matching_genes = []\n",
        "\n",
        "# リクエストの間隔を設定\n",
        "request_interval = 5  # 5秒ごとにリクエストを送信\n",
        "batch_size = 50  # 一度に処理する遺伝子IDの数\n",
        "\n",
        "for i in range(0, len(gene_ids), batch_size):\n",
        "    batch_gene_ids = gene_ids[i:i+batch_size]\n",
        "\n",
        "    # batch_gene_idsを文字列に変換\n",
        "    batch_gene_ids = [str(gene_id) for gene_id in batch_gene_ids]\n",
        "\n",
        "    try:\n",
        "        # EPostリクエストを使用して遺伝子IDをアップロード\n",
        "        post_handle = Entrez.epost(db=\"gene\", id=\",\".join(batch_gene_ids))\n",
        "        post_result = Entrez.read(post_handle)\n",
        "        web_history = post_result[\"WebEnv\"]\n",
        "        query_key = post_result[\"QueryKey\"]\n",
        "        post_handle.close()\n",
        "\n",
        "        # EUtilリクエストを使用してデータを取得\n",
        "        fetch_handle = Entrez.efetch(db=\"gene\", query_key=query_key, WebEnv=web_history, retmode=\"xml\")\n",
        "        records = Entrez.read(fetch_handle)\n",
        "        fetch_handle.close()\n",
        "\n",
        "        # 遺伝子情報からキーワードを検索\n",
        "        for record in records:\n",
        "            gene_summary = record.get(\"Entrezgene_summary\", \"\")\n",
        "            gene_id = record.get(\"Entrezgene_trackinfo\", {}).get(\"Gene-track_geneid\", \"N/A\")\n",
        "            gene_name = record.get(\"Entrezgene_gene\", \"N/A\")\n",
        "\n",
        "            if search_keyword in gene_summary:\n",
        "                matching_genes.append((gene_id, gene_name))\n",
        "    except Exception as e:\n",
        "        print(f\"エラーが発生しました: {e}\")\n",
        "\n",
        "    # リクエストの間隔を設ける\n",
        "    time.sleep(request_interval)\n",
        "\n",
        "# 検索結果をCSVファイルに保存\n",
        "if matching_genes:\n",
        "    result_df = pd.DataFrame(matching_genes, columns=[\"Gene ID\", \"Gene Name\"])\n",
        "    result_csv = \"matching_genes.csv\"\n",
        "    result_df.to_csv(result_csv, index=False)\n",
        "    print(f\"以下の遺伝子がキーワードを含んでいます。結果は'{result_csv}'に保存されました:\")\n",
        "    print(result_df)\n",
        "else:\n",
        "    print(\"指定したキーワードを含む遺伝子は見つかりませんでした。\")"
      ],
      "metadata": {
        "id": "ycWkh4AEaIqo",
        "outputId": "d672207c-a155-4a0f-dc27-0f429272c6e8",
        "colab": {
          "base_uri": "https://localhost:8080/"
        }
      },
      "execution_count": 9,
      "outputs": [
        {
          "output_type": "stream",
          "name": "stdout",
          "text": [
            "エラーが発生しました: HTTP Error 400: Bad Request\n",
            "エラーが発生しました: IncompleteRead(1449 bytes read)\n",
            "エラーが発生しました: HTTP Error 400: Bad Request\n",
            "以下の遺伝子がキーワードを含んでいます。結果は'matching_genes.csv'に保存されました:\n",
            "   Gene ID                                          Gene Name\n",
            "0      N/A  {'Gene-ref': {'Gene-ref_locus': 'GABRB3', 'Gen...\n",
            "1      N/A  {'Gene-ref': {'Gene-ref_locus': 'TNFRSF1A', 'G...\n",
            "2      N/A  {'Gene-ref': {'Gene-ref_locus': 'EFNB1', 'Gene...\n",
            "3      N/A  {'Gene-ref': {'Gene-ref_locus': 'S1PR1', 'Gene...\n",
            "4      N/A  {'Gene-ref': {'Gene-ref_locus': 'CYGB', 'Gene-...\n",
            "..     ...                                                ...\n",
            "74     N/A  {'Gene-ref': {'Gene-ref_locus': 'NR3C2', 'Gene...\n",
            "75     N/A  {'Gene-ref': {'Gene-ref_locus': 'RSPO1', 'Gene...\n",
            "76     N/A  {'Gene-ref': {'Gene-ref_locus': 'MET', 'Gene-r...\n",
            "77     N/A  {'Gene-ref': {'Gene-ref_locus': 'CXCL12', 'Gen...\n",
            "78     N/A  {'Gene-ref': {'Gene-ref_locus': 'TGFA', 'Gene-...\n",
            "\n",
            "[79 rows x 2 columns]\n"
          ]
        }
      ]
    }
  ]
}