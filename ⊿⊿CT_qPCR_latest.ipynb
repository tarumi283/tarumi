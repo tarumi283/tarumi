{
  "nbformat": 4,
  "nbformat_minor": 0,
  "metadata": {
    "colab": {
      "provenance": [],
      "authorship_tag": "ABX9TyM7Fctffcn6rYjLC+KOr89L",
      "include_colab_link": true
    },
    "kernelspec": {
      "name": "python3",
      "display_name": "Python 3"
    },
    "language_info": {
      "name": "python"
    }
  },
  "cells": [
    {
      "cell_type": "markdown",
      "metadata": {
        "id": "view-in-github",
        "colab_type": "text"
      },
      "source": [
        "<a href=\"https://colab.research.google.com/github/tarumi283/tarumi/blob/main/%E2%8A%BF%E2%8A%BFCT_qPCR_latest.ipynb\" target=\"_parent\"><img src=\"https://colab.research.google.com/assets/colab-badge.svg\" alt=\"Open In Colab\"/></a>"
      ]
    },
    {
      "cell_type": "code",
      "execution_count": null,
      "metadata": {
        "id": "M9yc8ANEamPu"
      },
      "outputs": [],
      "source": []
    },
    {
      "cell_type": "code",
      "execution_count": null,
      "metadata": {
        "colab": {
          "base_uri": "https://localhost:8080/"
        },
        "id": "SfdYhbeUqE-z",
        "outputId": "2c79b256-7596-4e50-ea1a-fa66f113a477"
      },
      "outputs": [
        {
          "output_type": "stream",
          "name": "stdout",
          "text": [
            "         Sample Condition  Target_Ct  Housekeeping1_Ct  Housekeeping2_Ct  \\\n",
            "0      Control1   Control      40.26             25.80             25.80   \n",
            "1      Control2   Control      44.19             30.03             30.03   \n",
            "2      Control3   Control      35.94             21.82             21.82   \n",
            "4      Treated2   Treated      35.65             19.39             19.39   \n",
            "5      Treated3   Treated      35.18             19.60             19.60   \n",
            "6   Treated_1_1   Treated      35.19             19.85             19.85   \n",
            "7    Treated1_2   Treated      35.23             18.26             18.26   \n",
            "9    Treated2_1   Treated      36.78             19.49             19.49   \n",
            "10   Treated2_2   Treated      38.25             23.08             23.08   \n",
            "\n",
            "    DeltaCt_HK1  DeltaCt_HK2  DeltaDeltaCt_HK1  DeltaDeltaCt_HK2  RelExp_HK1  \\\n",
            "0         14.46        14.46          0.213333          0.213333    0.862542   \n",
            "1         14.16        14.16         -0.086667         -0.086667    1.061914   \n",
            "2         14.12        14.12         -0.126667         -0.126667    1.091768   \n",
            "4         16.26        16.26          2.013333          2.013333    0.247700   \n",
            "5         15.58        15.58          1.333333          1.333333    0.396850   \n",
            "6         15.34        15.34          1.093333          1.093333    0.468677   \n",
            "7         16.97        16.97          2.723333          2.723333    0.151424   \n",
            "9         17.29        17.29          3.043333          3.043333    0.121301   \n",
            "10        15.17        15.17          0.923333          0.923333    0.527289   \n",
            "\n",
            "    RelExp_HK2  RelExp_GeoMean  \n",
            "0     0.862542        0.862542  \n",
            "1     1.061914        1.061914  \n",
            "2     1.091768        1.091768  \n",
            "4     0.247700        0.247700  \n",
            "5     0.396850        0.396850  \n",
            "6     0.468677        0.468677  \n",
            "7     0.151424        0.151424  \n",
            "9     0.121301        0.121301  \n",
            "10    0.527289        0.527289  \n",
            "\n",
            "Condition-wise relative expression (Control = 1):\n",
            "Condition\n",
            "Control    1.000000\n",
            "Treated    0.276433\n",
            "Name: GeoMean_FC, dtype: float64\n"
          ]
        }
      ],
      "source": [
        "import pandas as pd\n",
        "import numpy as np\n",
        "\n",
        "# ---- 入力データ ----\n",
        "data = {\n",
        "    'Sample': ['Control1', 'Control2','Control3',\n",
        "               'Treated1', 'Treated2', 'Treated3',\n",
        "               'Treated_1_1', 'Treated1_2','Treated_1_3',\n",
        "               'Treated2_1', 'Treated2_2', 'Treated2_3'],\n",
        "    'Target_Ct': [40.26, 44.19, 35.94, 0, 35.65, 35.18, 35.19, 35.23, 0, 36.78, 38.25, 0],\n",
        "    'Housekeeping1_Ct': [25.8, 30.03, 21.82, 32.07, 19.39, 19.6, 19.85, 18.26, 30.45, 19.49, 23.08, 30.99],\n",
        "    'Housekeeping2_Ct': [25.8, 30.03, 21.82, 32.07, 19.39, 19.6, 19.85, 18.26, 30.45, 19.49, 23.08, 30.99]\n",
        "}\n",
        "df = pd.DataFrame(data)\n",
        "\n",
        "# ---- 条件ラベル ----\n",
        "df['Condition'] = np.where(df['Sample'].str.contains('Control', case=False), 'Control', 'Treated')\n",
        "\n",
        "# ---- 未検出(0)を NaN に置換 ----\n",
        "for col in ['Target_Ct', 'Housekeeping1_Ct', 'Housekeeping2_Ct']:\n",
        "    df[col] = df[col].replace(0, np.nan)\n",
        "\n",
        "# ---- ΔCt ----\n",
        "df['DeltaCt_HK1'] = df['Target_Ct'] - df['Housekeeping1_Ct']\n",
        "df['DeltaCt_HK2'] = df['Target_Ct'] - df['Housekeeping2_Ct']\n",
        "\n",
        "# ---- Control群の平均ΔCt ----\n",
        "ctrl_mask = (df['Condition'] == 'Control')\n",
        "ctrl_mean_dCt_HK1 = df.loc[ctrl_mask, 'DeltaCt_HK1'].mean(skipna=True)\n",
        "ctrl_mean_dCt_HK2 = df.loc[ctrl_mask, 'DeltaCt_HK2'].mean(skipna=True)\n",
        "\n",
        "# ---- ΔΔCt と相対発現 ----\n",
        "df['DeltaDeltaCt_HK1'] = df['DeltaCt_HK1'] - ctrl_mean_dCt_HK1\n",
        "df['DeltaDeltaCt_HK2'] = df['DeltaCt_HK2'] - ctrl_mean_dCt_HK2\n",
        "df['RelExp_HK1'] = 2 ** (-df['DeltaDeltaCt_HK1'])\n",
        "df['RelExp_HK2'] = 2 ** (-df['DeltaDeltaCt_HK2'])\n",
        "\n",
        "# ---- 幾何平均（2つのHKを統合した発現量）----\n",
        "def geo_mean(values):\n",
        "    values = np.array(values, dtype=float)\n",
        "    values = values[~np.isnan(values)]\n",
        "    return np.exp(np.mean(np.log(values))) if len(values) else np.nan\n",
        "\n",
        "df['RelExp_GeoMean'] = [\n",
        "    geo_mean([r1, r2]) for r1, r2 in zip(df['RelExp_HK1'], df['RelExp_HK2'])\n",
        "]\n",
        "\n",
        "# ---- 未検出の行を除外 ----\n",
        "out = df[df['Target_Ct'].notna()].copy()\n",
        "\n",
        "# ---- 出力 ----\n",
        "cols_show = ['Sample','Condition','Target_Ct','Housekeeping1_Ct','Housekeeping2_Ct',\n",
        "             'DeltaCt_HK1','DeltaCt_HK2','DeltaDeltaCt_HK1','DeltaDeltaCt_HK2',\n",
        "             'RelExp_HK1','RelExp_HK2','RelExp_GeoMean']\n",
        "print(out[cols_show])\n",
        "\n",
        "# ---- 要約（Controlを1としたときのFold Change）----\n",
        "summary = out.groupby('Condition')['RelExp_GeoMean'].agg(lambda s: geo_mean(s)).rename('GeoMean_FC')\n",
        "# 正規化：Controlを1にスケーリング\n",
        "summary = summary / summary.loc['Control']\n",
        "print(\"\\nCondition-wise relative expression (Control = 1):\")\n",
        "print(summary)\n"
      ]
    }
  ]
}