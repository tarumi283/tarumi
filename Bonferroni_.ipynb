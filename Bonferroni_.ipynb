{
  "nbformat": 4,
  "nbformat_minor": 0,
  "metadata": {
    "colab": {
      "provenance": [],
      "authorship_tag": "ABX9TyMKeKikt76PMjozvoN8irll",
      "include_colab_link": true
    },
    "kernelspec": {
      "name": "python3",
      "display_name": "Python 3"
    },
    "language_info": {
      "name": "python"
    }
  },
  "cells": [
    {
      "cell_type": "markdown",
      "metadata": {
        "id": "view-in-github",
        "colab_type": "text"
      },
      "source": [
        "<a href=\"https://colab.research.google.com/github/tarumi283/tarumi/blob/main/Bonferroni_.ipynb\" target=\"_parent\"><img src=\"https://colab.research.google.com/assets/colab-badge.svg\" alt=\"Open In Colab\"/></a>"
      ]
    },
    {
      "cell_type": "code",
      "execution_count": null,
      "metadata": {
        "id": "we01rg4Y9xrH"
      },
      "outputs": [],
      "source": [
        "\n",
        "pip install pandas statsmodels"
      ]
    },
    {
      "cell_type": "code",
      "source": [
        "import pandas as pd\n",
        "import statsmodels.api as sm\n",
        "from statsmodels.formula.api import ols\n",
        "from statsmodels.stats.multitest import multipletests\n",
        "\n",
        "# CSVファイルのパス\n",
        "csv_file_path = 'path_to_your_file.csv'\n",
        "\n",
        "# CSVファイルの読み込み\n",
        "data = pd.read_csv(csv_file_path)\n",
        "\n",
        "# データの確認\n",
        "print(\"データの先頭部分:\\n\", data.head())\n",
        "\n",
        "# グループ列と値列の名前を適切に設定してください\n",
        "group_column = 'group'  # グループを示す列名\n",
        "value_column = 'value'  # 値を示す列名\n",
        "\n",
        "# ANOVAの実行\n",
        "model = ols(f'{value_column} ~ {group_column}', data=data).fit()\n",
        "anova_table = sm.stats.anova_lm(model, typ=2)\n",
        "print(\"\\nANOVAの結果:\\n\", anova_table)\n",
        "\n",
        "# グループごとに値のリストを作成\n",
        "groups = data[group_column].unique()\n",
        "group_data = [data[data[group_column] == group][value_column] for group in groups]\n",
        "\n",
        "# t検定を用いてすべてのペアのp値を計算\n",
        "from itertools import combinations\n",
        "from scipy.stats import ttest_ind\n",
        "\n",
        "p_values = []\n",
        "comparisons = list(combinations(groups, 2))\n",
        "for (group1, group2) in comparisons:\n",
        "    t_stat, p_value = ttest_ind(data[data[group_column] == group1][value_column],\n",
        "                                data[data[group_column] == group2][value_column])\n",
        "    p_values.append(p_value)\n",
        "\n",
        "# ボンフェローニ法を適用してp値を補正\n",
        "reject, pvals_corrected, alphacSidak, alphacBonf = multipletests(p_values, alpha=0.05, method='bonferroni')\n",
        "\n",
        "# 結果の表示\n",
        "print(\"\\nボンフェローニ補正後のp値:\")\n",
        "for i, (comp, p_val_corr) in enumerate(zip(comparisons, pvals_corrected)):\n",
        "    print(f\"{comp[0]} vs {comp[1]}: {p_val_corr} (補正前のp値: {p_values[i]})\")\n",
        "\n",
        "print(\"\\n補正されたp値で有意な差があるペア:\")\n",
        "for i, (comp, rej) in enumerate(zip(comparisons, reject)):\n",
        "    if rej:\n",
        "        print(f\"{comp[0]} vs {comp[1]}\")"
      ],
      "metadata": {
        "id": "llPwFyxh-I0d"
      },
      "execution_count": null,
      "outputs": []
    }
  ]
}